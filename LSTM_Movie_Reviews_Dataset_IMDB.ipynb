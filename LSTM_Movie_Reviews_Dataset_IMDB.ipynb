{
  "nbformat": 4,
  "nbformat_minor": 0,
  "metadata": {
    "colab": {
      "name": "LSTM_Movie_Reviews_Dataset_IMDB.ipynb",
      "provenance": []
    },
    "kernelspec": {
      "name": "python3",
      "display_name": "Python 3"
    },
    "language_info": {
      "name": "python"
    }
  },
  "cells": [
    {
      "cell_type": "code",
      "metadata": {
        "colab": {
          "base_uri": "https://localhost:8080/"
        },
        "id": "_Ykr63Hnu96o",
        "outputId": "c604302b-0eb7-4cda-fd22-a6eb3fda79b5"
      },
      "source": [
        "!wget https://www.dropbox.com/s/pdhwlpi2yeie0ol/movie-reviews-dataset.zip"
      ],
      "execution_count": null,
      "outputs": [
        {
          "output_type": "stream",
          "name": "stdout",
          "text": [
            "--2021-08-31 11:42:20--  https://www.dropbox.com/s/pdhwlpi2yeie0ol/movie-reviews-dataset.zip\n",
            "Resolving www.dropbox.com (www.dropbox.com)... 162.125.1.18, 2620:100:6016:18::a27d:112\n",
            "Connecting to www.dropbox.com (www.dropbox.com)|162.125.1.18|:443... connected.\n",
            "HTTP request sent, awaiting response... 301 Moved Permanently\n",
            "Location: /s/raw/pdhwlpi2yeie0ol/movie-reviews-dataset.zip [following]\n",
            "--2021-08-31 11:42:20--  https://www.dropbox.com/s/raw/pdhwlpi2yeie0ol/movie-reviews-dataset.zip\n",
            "Reusing existing connection to www.dropbox.com:443.\n",
            "HTTP request sent, awaiting response... 302 Found\n",
            "Location: https://uc801d613c7dac8cb4969a99a66c.dl.dropboxusercontent.com/cd/0/inline/BVTZi7wBIbqipEgj0c712Imh3ISPh09dw83Qgk8FG8mpMEB1z_U7tK-6OSRJKw2iEsqnAJLiZR8MmQ4Q8qbVFAhl6CwdQXcREuRQ4a3Gc_mEgB9Ub-N4qCCwmgcaOl5N2sR5wFDwRy6mUYrW0vEPjTCH/file# [following]\n",
            "--2021-08-31 11:42:20--  https://uc801d613c7dac8cb4969a99a66c.dl.dropboxusercontent.com/cd/0/inline/BVTZi7wBIbqipEgj0c712Imh3ISPh09dw83Qgk8FG8mpMEB1z_U7tK-6OSRJKw2iEsqnAJLiZR8MmQ4Q8qbVFAhl6CwdQXcREuRQ4a3Gc_mEgB9Ub-N4qCCwmgcaOl5N2sR5wFDwRy6mUYrW0vEPjTCH/file\n",
            "Resolving uc801d613c7dac8cb4969a99a66c.dl.dropboxusercontent.com (uc801d613c7dac8cb4969a99a66c.dl.dropboxusercontent.com)... 162.125.1.15, 2620:100:6035:15::a27d:550f\n",
            "Connecting to uc801d613c7dac8cb4969a99a66c.dl.dropboxusercontent.com (uc801d613c7dac8cb4969a99a66c.dl.dropboxusercontent.com)|162.125.1.15|:443... connected.\n",
            "HTTP request sent, awaiting response... 302 Found\n",
            "Location: /cd/0/inline2/BVQot7q2OnKGKAEB13xR9RV8rF-5VccIMWRYf7njYhTBoGyAHjdnS1ycXtYK312XGJThrH_ik62p2ui0oeP27UOteUPBJsAxd7hbsGwgwAoVeMdpKlEfTJxRl8mMaYLgl-Aba2nstoDFO6JvglDBQAXagu6KeMn15DCmFEtR1Xkea1CwekLZCtHQ3W1Fpxf-hYFA2ZZIExBZaiCA5RS7MOa4s5GDo-DvWcgmCYfPOg-ID1lZsdcdJmAJNEkaVu96mqRpJXc7OWL6tvVRZO7e-N7V97AnCc_XDV_IBZi_8e4i1wD1i1ojtgxqE6U5d0LMXIYYgjxcPBxTl6ydlH4JeRy5s2mfma_z8adA0ZseEunNqstH2SdVWI97rCbzbeaue_Y/file [following]\n",
            "--2021-08-31 11:42:21--  https://uc801d613c7dac8cb4969a99a66c.dl.dropboxusercontent.com/cd/0/inline2/BVQot7q2OnKGKAEB13xR9RV8rF-5VccIMWRYf7njYhTBoGyAHjdnS1ycXtYK312XGJThrH_ik62p2ui0oeP27UOteUPBJsAxd7hbsGwgwAoVeMdpKlEfTJxRl8mMaYLgl-Aba2nstoDFO6JvglDBQAXagu6KeMn15DCmFEtR1Xkea1CwekLZCtHQ3W1Fpxf-hYFA2ZZIExBZaiCA5RS7MOa4s5GDo-DvWcgmCYfPOg-ID1lZsdcdJmAJNEkaVu96mqRpJXc7OWL6tvVRZO7e-N7V97AnCc_XDV_IBZi_8e4i1wD1i1ojtgxqE6U5d0LMXIYYgjxcPBxTl6ydlH4JeRy5s2mfma_z8adA0ZseEunNqstH2SdVWI97rCbzbeaue_Y/file\n",
            "Reusing existing connection to uc801d613c7dac8cb4969a99a66c.dl.dropboxusercontent.com:443.\n",
            "HTTP request sent, awaiting response... 200 OK\n",
            "Length: 62951389 (60M) [application/zip]\n",
            "Saving to: ‘movie-reviews-dataset.zip’\n",
            "\n",
            "movie-reviews-datas 100%[===================>]  60.03M  30.7MB/s    in 2.0s    \n",
            "\n",
            "2021-08-31 11:42:23 (30.7 MB/s) - ‘movie-reviews-dataset.zip’ saved [62951389/62951389]\n",
            "\n"
          ]
        }
      ]
    },
    {
      "cell_type": "code",
      "metadata": {
        "id": "SCCmDkApvzHJ"
      },
      "source": [
        "# Let's unzip the file\n",
        "!unzip -q \"/content/movie-reviews-dataset.zip\""
      ],
      "execution_count": null,
      "outputs": []
    },
    {
      "cell_type": "code",
      "metadata": {
        "id": "sZkcjoQXvzKh"
      },
      "source": [
        "from tensorflow.keras.preprocessing import  text_dataset_from_directory\n",
        "from tensorflow.strings import regex_replace\n",
        "from tensorflow.keras.layers.experimental.preprocessing import TextVectorization\n",
        "from tensorflow.keras.models import Sequential\n",
        "from tensorflow.keras import Input\n",
        "from tensorflow.keras.layers import Dense, LSTM, Embedding, Dropout"
      ],
      "execution_count": null,
      "outputs": []
    },
    {
      "cell_type": "code",
      "metadata": {
        "id": "7dfX0O2JvzOg"
      },
      "source": [
        "def prepareData(dir):\n",
        "  data = text_dataset_from_directory(dir)\n",
        "  return data.map(\n",
        "      lambda text, label: (regex_replace(text, \"<br />\", \" \"), label),\n",
        "  )"
      ],
      "execution_count": null,
      "outputs": []
    },
    {
      "cell_type": "code",
      "metadata": {
        "colab": {
          "base_uri": "https://localhost:8080/"
        },
        "id": "zOAIlkf_xPuP",
        "outputId": "44968683-a0dc-408a-b558-099f45149560"
      },
      "source": [
        "train_data = prepareData(\"/content/movie-reviews-dataset/train\")\n",
        "test_data = prepareData(\"/content/movie-reviews-dataset/test\")\n",
        "\n",
        "for text_batch, label_batch in train_data.take(1):\n",
        "  print(text_batch.numpy()[0])\n",
        "  print(label_batch.numpy()[0])"
      ],
      "execution_count": null,
      "outputs": [
        {
          "output_type": "stream",
          "name": "stdout",
          "text": [
            "Found 25000 files belonging to 2 classes.\n",
            "Found 25000 files belonging to 2 classes.\n",
            "b'... and yet, we were told, there was another hour and 20 minutes left to go.  Why, oh, why wasn\\'t there an editor to tell the writer/director to snip, snip, snip? Apparently that writer/director has previously done shorts; as a short, this would have been okay. But the lack of dialogue starts to grate after twenty minutes. The lack of much music glares. The background noises (talking, traffic, and especially a ubiquitous helicopter) get old really fast. But the worst failure is in story. There is precious little beyond a short.  After an hour we saw variations of the same scene over and over again. I nearly screamed at the screen, \"We get it, we get it!!!!!\" It\\'s amazing that after that left the theatre, we could drive home, watch the Daily Show and parts of the Colbert Report, get ready for bed,and know that the audience was STILL trapped in the theatre.  It\\'s not enough to indulge your vision. You have to give the audience enough to share your vision.'\n",
            "0\n"
          ]
        }
      ]
    },
    {
      "cell_type": "code",
      "metadata": {
        "id": "RxNKI_8ixPxg"
      },
      "source": [
        "model =Sequential()"
      ],
      "execution_count": null,
      "outputs": []
    },
    {
      "cell_type": "code",
      "metadata": {
        "id": "nsN3_WajxP1L"
      },
      "source": [
        "model.add(Input(shape=(1,), dtype=\"string\"))"
      ],
      "execution_count": null,
      "outputs": []
    },
    {
      "cell_type": "code",
      "metadata": {
        "id": "atMG_L0vxP4I"
      },
      "source": [
        "max_tokens= 1000\n",
        "max_len = 100\n",
        "vectorize_layer = TextVectorization(\n",
        "    max_tokens = max_tokens,\n",
        "    output_mode = 'int',\n",
        "    output_sequence_length = max_len,\n",
        ")"
      ],
      "execution_count": null,
      "outputs": []
    },
    {
      "cell_type": "code",
      "metadata": {
        "id": "G0F6cuKOxP7N"
      },
      "source": [
        ""
      ],
      "execution_count": null,
      "outputs": []
    },
    {
      "cell_type": "code",
      "metadata": {
        "id": "S-NIybDoxP9z"
      },
      "source": [
        "train_texts = train_data.map(lambda text, label: text)\n",
        "vectorize_layer.adapt(train_texts)\n",
        "\n",
        "model.add(vectorize_layer)"
      ],
      "execution_count": null,
      "outputs": []
    },
    {
      "cell_type": "code",
      "metadata": {
        "id": "Wc1xWHx52Cm0"
      },
      "source": [
        "model.add(Embedding(max_tokens + 1, 128))\n",
        "\n",
        "model.add(LSTM(64))\n",
        "model.add(Dense(64, activation='relu'))\n",
        "model.add(Dense(1, activation='sigmoid'))"
      ],
      "execution_count": null,
      "outputs": []
    },
    {
      "cell_type": "code",
      "metadata": {
        "id": "QzJWzjvq2DQc"
      },
      "source": [
        "model.compile(loss=\"binary_crossentropy\", optimizer=\"adam\", metrics=[\"accuracy\"])"
      ],
      "execution_count": null,
      "outputs": []
    },
    {
      "cell_type": "code",
      "metadata": {
        "colab": {
          "base_uri": "https://localhost:8080/"
        },
        "id": "p3IxCxEW2Crr",
        "outputId": "0e0d89d0-2af9-49e9-ac45-3084b18d7c27"
      },
      "source": [
        "model.fit(train_data, epochs=10)"
      ],
      "execution_count": null,
      "outputs": [
        {
          "output_type": "stream",
          "name": "stdout",
          "text": [
            "Epoch 1/10\n",
            "782/782 [==============================] - 70s 87ms/step - loss: 0.5347 - accuracy: 0.7258\n",
            "Epoch 2/10\n",
            "782/782 [==============================] - 67s 86ms/step - loss: 0.4380 - accuracy: 0.8003\n",
            "Epoch 3/10\n",
            "782/782 [==============================] - 67s 86ms/step - loss: 0.4080 - accuracy: 0.8149\n",
            "Epoch 4/10\n",
            "782/782 [==============================] - 66s 85ms/step - loss: 0.3858 - accuracy: 0.8271\n",
            "Epoch 5/10\n",
            "782/782 [==============================] - 67s 85ms/step - loss: 0.3639 - accuracy: 0.8410\n",
            "Epoch 6/10\n",
            "782/782 [==============================] - 68s 86ms/step - loss: 0.3492 - accuracy: 0.8478\n",
            "Epoch 7/10\n",
            "782/782 [==============================] - 68s 87ms/step - loss: 0.3387 - accuracy: 0.8531\n",
            "Epoch 8/10\n",
            "782/782 [==============================] - 69s 88ms/step - loss: 0.3196 - accuracy: 0.8649\n",
            "Epoch 9/10\n",
            "782/782 [==============================] - 69s 88ms/step - loss: 0.3089 - accuracy: 0.8677\n",
            "Epoch 10/10\n",
            "782/782 [==============================] - 69s 88ms/step - loss: 0.2972 - accuracy: 0.8760\n"
          ]
        },
        {
          "output_type": "execute_result",
          "data": {
            "text/plain": [
              "<keras.callbacks.History at 0x7f5643f72750>"
            ]
          },
          "metadata": {},
          "execution_count": 12
        }
      ]
    },
    {
      "cell_type": "code",
      "metadata": {
        "id": "hCl3jLr52CvD"
      },
      "source": [
        ""
      ],
      "execution_count": null,
      "outputs": []
    },
    {
      "cell_type": "code",
      "metadata": {
        "colab": {
          "base_uri": "https://localhost:8080/"
        },
        "id": "mTdiKrUA2Cx3",
        "outputId": "03d8e8ca-bdf9-487d-df22-91e243f554a8"
      },
      "source": [
        "model.evaluate(test_data)"
      ],
      "execution_count": null,
      "outputs": [
        {
          "output_type": "stream",
          "name": "stdout",
          "text": [
            "782/782 [==============================] - 23s 28ms/step - loss: 0.5348 - accuracy: 0.7704\n"
          ]
        },
        {
          "output_type": "execute_result",
          "data": {
            "text/plain": [
              "[0.5347712635993958, 0.7703999876976013]"
            ]
          },
          "metadata": {},
          "execution_count": 13
        }
      ]
    },
    {
      "cell_type": "code",
      "metadata": {
        "id": "bQuQpJrl2C2S"
      },
      "source": [
        ""
      ],
      "execution_count": null,
      "outputs": []
    },
    {
      "cell_type": "code",
      "metadata": {
        "id": "AZGerREbvzRk"
      },
      "source": [
        "text = \"This movis is bad\""
      ],
      "execution_count": null,
      "outputs": []
    },
    {
      "cell_type": "code",
      "metadata": {
        "colab": {
          "base_uri": "https://localhost:8080/"
        },
        "id": "8ZDVK3Ly3hL5",
        "outputId": "d2f2bded-7460-45c4-a75f-abdfbf5115c0"
      },
      "source": [
        "model.predict([text]) # 0 = Negative review, 1 = positive review"
      ],
      "execution_count": null,
      "outputs": [
        {
          "output_type": "execute_result",
          "data": {
            "text/plain": [
              "array([[0.02341992]], dtype=float32)"
            ]
          },
          "metadata": {},
          "execution_count": 15
        }
      ]
    },
    {
      "cell_type": "code",
      "metadata": {
        "id": "lcm3Hv4c5JAZ"
      },
      "source": [
        "text2 = \"This movis is good\""
      ],
      "execution_count": null,
      "outputs": []
    },
    {
      "cell_type": "code",
      "metadata": {
        "colab": {
          "base_uri": "https://localhost:8080/"
        },
        "id": "zFUe2iHz5Mym",
        "outputId": "832956fb-bfbb-480a-8a90-06522dd92b52"
      },
      "source": [
        "model.predict([text2]) # 0 = Negative review, 1 = positive review"
      ],
      "execution_count": null,
      "outputs": [
        {
          "output_type": "execute_result",
          "data": {
            "text/plain": [
              "array([[0.92961156]], dtype=float32)"
            ]
          },
          "metadata": {},
          "execution_count": 17
        }
      ]
    }
  ]
}
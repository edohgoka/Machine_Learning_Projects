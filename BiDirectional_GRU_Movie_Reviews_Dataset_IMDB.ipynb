{
  "nbformat": 4,
  "nbformat_minor": 0,
  "metadata": {
    "colab": {
      "name": "BiDirectional_GRU_Movie_Reviews_Dataset_IMDB.ipynb",
      "provenance": [],
      "collapsed_sections": []
    },
    "kernelspec": {
      "name": "python3",
      "display_name": "Python 3"
    },
    "language_info": {
      "name": "python"
    }
  },
  "cells": [
    {
      "cell_type": "code",
      "metadata": {
        "colab": {
          "base_uri": "https://localhost:8080/"
        },
        "id": "_Ykr63Hnu96o",
        "outputId": "85c626f8-9fcb-4414-96a2-3e56681fd2aa"
      },
      "source": [
        "!wget https://www.dropbox.com/s/pdhwlpi2yeie0ol/movie-reviews-dataset.zip"
      ],
      "execution_count": 1,
      "outputs": [
        {
          "output_type": "stream",
          "name": "stdout",
          "text": [
            "--2021-08-31 12:52:28--  https://www.dropbox.com/s/pdhwlpi2yeie0ol/movie-reviews-dataset.zip\n",
            "Resolving www.dropbox.com (www.dropbox.com)... 162.125.1.18, 2620:100:6022:18::a27d:4212\n",
            "Connecting to www.dropbox.com (www.dropbox.com)|162.125.1.18|:443... connected.\n",
            "HTTP request sent, awaiting response... 301 Moved Permanently\n",
            "Location: /s/raw/pdhwlpi2yeie0ol/movie-reviews-dataset.zip [following]\n",
            "--2021-08-31 12:52:28--  https://www.dropbox.com/s/raw/pdhwlpi2yeie0ol/movie-reviews-dataset.zip\n",
            "Reusing existing connection to www.dropbox.com:443.\n",
            "HTTP request sent, awaiting response... 302 Found\n",
            "Location: https://ucc8bf83a7712f889be23ea3d72f.dl.dropboxusercontent.com/cd/0/inline/BVRWrj5IQ5ni7-Pfaix4EQjT-kzXBXJBhZsxiq42QZcsF--tSSpVRwU3kDUu8URLy_uNsdhn2UYCgkobDmXEGwDwxUX8nADLbYuNliXod8zfu-KjPnJCq_mblEeaMJSwvgDhHQQLqqy4jlOLqkYk6INs/file# [following]\n",
            "--2021-08-31 12:52:29--  https://ucc8bf83a7712f889be23ea3d72f.dl.dropboxusercontent.com/cd/0/inline/BVRWrj5IQ5ni7-Pfaix4EQjT-kzXBXJBhZsxiq42QZcsF--tSSpVRwU3kDUu8URLy_uNsdhn2UYCgkobDmXEGwDwxUX8nADLbYuNliXod8zfu-KjPnJCq_mblEeaMJSwvgDhHQQLqqy4jlOLqkYk6INs/file\n",
            "Resolving ucc8bf83a7712f889be23ea3d72f.dl.dropboxusercontent.com (ucc8bf83a7712f889be23ea3d72f.dl.dropboxusercontent.com)... 162.125.1.15, 2620:100:6035:15::a27d:550f\n",
            "Connecting to ucc8bf83a7712f889be23ea3d72f.dl.dropboxusercontent.com (ucc8bf83a7712f889be23ea3d72f.dl.dropboxusercontent.com)|162.125.1.15|:443... connected.\n",
            "HTTP request sent, awaiting response... 302 Found\n",
            "Location: /cd/0/inline2/BVTuMXuUC31Aj-3Hm27LOh4NFxlmmaqfV5FiQPJV9BaSaDOZExRujWKAPoyAxt14fq-VbsGJf3qkUNJPJDtPwAcdpucL65UKKBSiPqFxsR8jAj9Iq-4xdg_8zLTOBATzHUb6Q5uDjnjZxeeFH831N2CsfXFeOGHV-dRvm7QC6uE-iJ0OQbd8b766XNyxm4xdVLZWRNsk_x8ywqExcqAWJ3E2YKTuAWYkzrZUP2n9tO1NwX5G59usM-6PAok1Xb2ttYnNGC0eRzHhmC8a5a8-88FUbkJ--J8QJ8N7VG0_wjiYKAoUBr8h6pLuX-om4iZXbDcfw37XioaZ_6q8NVoM_zp4kSxwuWGt64JabZUITM98U6z9Azicp7tNus0pN8iK8w4/file [following]\n",
            "--2021-08-31 12:52:29--  https://ucc8bf83a7712f889be23ea3d72f.dl.dropboxusercontent.com/cd/0/inline2/BVTuMXuUC31Aj-3Hm27LOh4NFxlmmaqfV5FiQPJV9BaSaDOZExRujWKAPoyAxt14fq-VbsGJf3qkUNJPJDtPwAcdpucL65UKKBSiPqFxsR8jAj9Iq-4xdg_8zLTOBATzHUb6Q5uDjnjZxeeFH831N2CsfXFeOGHV-dRvm7QC6uE-iJ0OQbd8b766XNyxm4xdVLZWRNsk_x8ywqExcqAWJ3E2YKTuAWYkzrZUP2n9tO1NwX5G59usM-6PAok1Xb2ttYnNGC0eRzHhmC8a5a8-88FUbkJ--J8QJ8N7VG0_wjiYKAoUBr8h6pLuX-om4iZXbDcfw37XioaZ_6q8NVoM_zp4kSxwuWGt64JabZUITM98U6z9Azicp7tNus0pN8iK8w4/file\n",
            "Reusing existing connection to ucc8bf83a7712f889be23ea3d72f.dl.dropboxusercontent.com:443.\n",
            "HTTP request sent, awaiting response... 200 OK\n",
            "Length: 62951389 (60M) [application/zip]\n",
            "Saving to: ‘movie-reviews-dataset.zip’\n",
            "\n",
            "movie-reviews-datas 100%[===================>]  60.03M  30.7MB/s    in 2.0s    \n",
            "\n",
            "2021-08-31 12:52:32 (30.7 MB/s) - ‘movie-reviews-dataset.zip’ saved [62951389/62951389]\n",
            "\n"
          ]
        }
      ]
    },
    {
      "cell_type": "code",
      "metadata": {
        "id": "SCCmDkApvzHJ"
      },
      "source": [
        "# Let's unzip the file\n",
        "!unzip -q \"/content/movie-reviews-dataset.zip\""
      ],
      "execution_count": 2,
      "outputs": []
    },
    {
      "cell_type": "code",
      "metadata": {
        "id": "sZkcjoQXvzKh"
      },
      "source": [
        "from tensorflow.keras.preprocessing import  text_dataset_from_directory\n",
        "from tensorflow.strings import regex_replace\n",
        "from tensorflow.keras.layers.experimental.preprocessing import TextVectorization\n",
        "from tensorflow.keras.models import Sequential\n",
        "from tensorflow.keras import Input\n",
        "from tensorflow.keras.layers import Dense, GRU, Embedding, Dropout, Bidirectional"
      ],
      "execution_count": 3,
      "outputs": []
    },
    {
      "cell_type": "code",
      "metadata": {
        "id": "7dfX0O2JvzOg"
      },
      "source": [
        "def prepareData(dir):\n",
        "  data = text_dataset_from_directory(dir)\n",
        "  return data.map(\n",
        "      lambda text, label: (regex_replace(text, \"<br />\", \" \"), label),\n",
        "  )"
      ],
      "execution_count": 4,
      "outputs": []
    },
    {
      "cell_type": "code",
      "metadata": {
        "colab": {
          "base_uri": "https://localhost:8080/"
        },
        "id": "zOAIlkf_xPuP",
        "outputId": "beb889cb-59c9-4976-85c4-1b2a538fe764"
      },
      "source": [
        "train_data = prepareData(\"/content/movie-reviews-dataset/train\")\n",
        "test_data = prepareData(\"/content/movie-reviews-dataset/test\")\n",
        "\n",
        "for text_batch, label_batch in train_data.take(1):\n",
        "  print(text_batch.numpy()[0])\n",
        "  print(label_batch.numpy()[0])"
      ],
      "execution_count": 5,
      "outputs": [
        {
          "output_type": "stream",
          "name": "stdout",
          "text": [
            "Found 25000 files belonging to 2 classes.\n",
            "Found 25000 files belonging to 2 classes.\n",
            "b'Somehow they summed up the 60\\'s, ten years that radically changed our country, in four hours. And what a painful four hours it was. They trivilized the major events and happenings and they \"claimed\" it was about two families yet you barely saw the african-american family. If I were NBC I would be ashamed and embarrassed for airing such trash. What was amusing was this happy-go-lucky family you saw in the very beginning was tortured in so many ways, but managed to attend every major 60\\'s event through the country. And the second family was such a non-factor. They devoted maybe five or six scenes total to this family. That poor son... Please NBC, do not make any movies about any other eras....leave that to PBS and the History Channel'\n",
            "0\n"
          ]
        }
      ]
    },
    {
      "cell_type": "code",
      "metadata": {
        "id": "RxNKI_8ixPxg"
      },
      "source": [
        "model =Sequential()"
      ],
      "execution_count": 6,
      "outputs": []
    },
    {
      "cell_type": "code",
      "metadata": {
        "id": "nsN3_WajxP1L"
      },
      "source": [
        "model.add(Input(shape=(1,), dtype=\"string\"))"
      ],
      "execution_count": 7,
      "outputs": []
    },
    {
      "cell_type": "code",
      "metadata": {
        "id": "atMG_L0vxP4I"
      },
      "source": [
        "max_tokens= 1000\n",
        "max_len = 100\n",
        "vectorize_layer = TextVectorization(\n",
        "    max_tokens = max_tokens,\n",
        "    output_mode = 'int',\n",
        "    output_sequence_length = max_len,\n",
        ")"
      ],
      "execution_count": 8,
      "outputs": []
    },
    {
      "cell_type": "code",
      "metadata": {
        "id": "G0F6cuKOxP7N"
      },
      "source": [
        ""
      ],
      "execution_count": 8,
      "outputs": []
    },
    {
      "cell_type": "code",
      "metadata": {
        "id": "S-NIybDoxP9z"
      },
      "source": [
        "train_texts = train_data.map(lambda text, label: text)\n",
        "vectorize_layer.adapt(train_texts)\n",
        "\n",
        "model.add(vectorize_layer)"
      ],
      "execution_count": 9,
      "outputs": []
    },
    {
      "cell_type": "code",
      "metadata": {
        "id": "Wc1xWHx52Cm0"
      },
      "source": [
        "model.add(Embedding(max_tokens + 1, 128))\n",
        "\n",
        "model.add(Bidirectional(GRU(64)))\n",
        "model.add(Dense(64, activation='relu'))\n",
        "model.add(Dense(1, activation='sigmoid'))"
      ],
      "execution_count": 10,
      "outputs": []
    },
    {
      "cell_type": "code",
      "metadata": {
        "id": "QzJWzjvq2DQc"
      },
      "source": [
        "model.compile(loss=\"binary_crossentropy\", optimizer=\"adam\", metrics=[\"accuracy\"])"
      ],
      "execution_count": 11,
      "outputs": []
    },
    {
      "cell_type": "code",
      "metadata": {
        "colab": {
          "base_uri": "https://localhost:8080/"
        },
        "id": "p3IxCxEW2Crr",
        "outputId": "424b05d7-a21e-4b8d-9c05-a7dad0cd96d1"
      },
      "source": [
        "model.fit(train_data, epochs=10)"
      ],
      "execution_count": null,
      "outputs": [
        {
          "output_type": "stream",
          "name": "stdout",
          "text": [
            "Epoch 1/10\n",
            "782/782 [==============================] - 104s 127ms/step - loss: 0.5367 - accuracy: 0.7168\n",
            "Epoch 2/10\n",
            "782/782 [==============================] - 99s 127ms/step - loss: 0.4239 - accuracy: 0.8009\n",
            "Epoch 3/10\n",
            "782/782 [==============================] - 100s 127ms/step - loss: 0.3887 - accuracy: 0.8216\n",
            "Epoch 4/10\n",
            "782/782 [==============================] - 103s 131ms/step - loss: 0.3564 - accuracy: 0.8392\n",
            "Epoch 5/10\n",
            "782/782 [==============================] - 101s 128ms/step - loss: 0.3258 - accuracy: 0.8554\n",
            "Epoch 6/10\n",
            "782/782 [==============================] - 103s 131ms/step - loss: 0.2985 - accuracy: 0.8667\n",
            "Epoch 7/10\n",
            "782/782 [==============================] - 102s 130ms/step - loss: 0.2699 - accuracy: 0.8810\n",
            "Epoch 8/10\n",
            "782/782 [==============================] - 101s 129ms/step - loss: 0.2373 - accuracy: 0.8985\n",
            "Epoch 9/10\n",
            "782/782 [==============================] - 105s 134ms/step - loss: 0.2086 - accuracy: 0.9119\n",
            "Epoch 10/10\n",
            "600/782 [======================>.......] - ETA: 23s - loss: 0.1813 - accuracy: 0.9260"
          ]
        }
      ]
    },
    {
      "cell_type": "code",
      "metadata": {
        "id": "hCl3jLr52CvD"
      },
      "source": [
        ""
      ],
      "execution_count": null,
      "outputs": []
    },
    {
      "cell_type": "code",
      "metadata": {
        "colab": {
          "base_uri": "https://localhost:8080/"
        },
        "id": "mTdiKrUA2Cx3",
        "outputId": "5105b7d2-53bd-4374-e7d4-f8a4c6013d59"
      },
      "source": [
        "model.evaluate(test_data)"
      ],
      "execution_count": 13,
      "outputs": [
        {
          "output_type": "stream",
          "name": "stdout",
          "text": [
            "782/782 [==============================] - 27s 34ms/step - loss: 0.7904 - accuracy: 0.7730\n"
          ]
        },
        {
          "output_type": "execute_result",
          "data": {
            "text/plain": [
              "[0.7903835773468018, 0.7730399966239929]"
            ]
          },
          "metadata": {},
          "execution_count": 13
        }
      ]
    },
    {
      "cell_type": "code",
      "metadata": {
        "id": "bQuQpJrl2C2S"
      },
      "source": [
        ""
      ],
      "execution_count": 13,
      "outputs": []
    },
    {
      "cell_type": "code",
      "metadata": {
        "id": "AZGerREbvzRk"
      },
      "source": [
        "text = \"This movis is bad\""
      ],
      "execution_count": 14,
      "outputs": []
    },
    {
      "cell_type": "code",
      "metadata": {
        "colab": {
          "base_uri": "https://localhost:8080/"
        },
        "id": "8ZDVK3Ly3hL5",
        "outputId": "677721e3-ac54-4074-e3af-a6b2b47ec18e"
      },
      "source": [
        "model.predict([text]) # 0 = Negative review, 1 = positive review"
      ],
      "execution_count": 15,
      "outputs": [
        {
          "output_type": "execute_result",
          "data": {
            "text/plain": [
              "array([[0.01893267]], dtype=float32)"
            ]
          },
          "metadata": {},
          "execution_count": 15
        }
      ]
    },
    {
      "cell_type": "code",
      "metadata": {
        "id": "lcm3Hv4c5JAZ"
      },
      "source": [
        "text2 = \"This movis is good\""
      ],
      "execution_count": 16,
      "outputs": []
    },
    {
      "cell_type": "code",
      "metadata": {
        "colab": {
          "base_uri": "https://localhost:8080/"
        },
        "id": "zFUe2iHz5Mym",
        "outputId": "9ebedc83-721b-4c82-9210-214ea7f7e6a3"
      },
      "source": [
        "model.predict([text2]) # 0 = Negative review, 1 = positive review"
      ],
      "execution_count": 17,
      "outputs": [
        {
          "output_type": "execute_result",
          "data": {
            "text/plain": [
              "array([[0.897671]], dtype=float32)"
            ]
          },
          "metadata": {},
          "execution_count": 17
        }
      ]
    }
  ]
}
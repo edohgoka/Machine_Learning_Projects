{
 "cells": [
  {
   "cell_type": "code",
   "execution_count": 61,
   "id": "27925d3d",
   "metadata": {},
   "outputs": [],
   "source": [
    "## Loading the libraries\n",
    "import numpy as np \n",
    "import pandas as pd\n",
    "import matplotlib.pyplot as plt \n",
    "import seaborn as sns\n",
    "from sklearn.model_selection import train_test_split\n",
    "from sklearn.metrics import accuracy_score, confusion_matrix\n",
    "from sklearn.linear_model import LogisticRegression\n",
    "import warnings\n",
    "warnings.filterwarnings(\"ignore\")"
   ]
  },
  {
   "cell_type": "code",
   "execution_count": 2,
   "id": "e09d9cf3",
   "metadata": {},
   "outputs": [],
   "source": [
    "## loading the data\n",
    "df = pd.read_csv(\"payment_fraud.csv\")"
   ]
  },
  {
   "cell_type": "markdown",
   "id": "c264616b",
   "metadata": {},
   "source": [
    "**Exploration Data Analysis**"
   ]
  },
  {
   "cell_type": "code",
   "execution_count": 4,
   "id": "623146a1",
   "metadata": {},
   "outputs": [
    {
     "data": {
      "text/html": [
       "<div>\n",
       "<style scoped>\n",
       "    .dataframe tbody tr th:only-of-type {\n",
       "        vertical-align: middle;\n",
       "    }\n",
       "\n",
       "    .dataframe tbody tr th {\n",
       "        vertical-align: top;\n",
       "    }\n",
       "\n",
       "    .dataframe thead th {\n",
       "        text-align: right;\n",
       "    }\n",
       "</style>\n",
       "<table border=\"1\" class=\"dataframe\">\n",
       "  <thead>\n",
       "    <tr style=\"text-align: right;\">\n",
       "      <th></th>\n",
       "      <th>accountAgeDays</th>\n",
       "      <th>numItems</th>\n",
       "      <th>localTime</th>\n",
       "      <th>paymentMethod</th>\n",
       "      <th>paymentMethodAgeDays</th>\n",
       "      <th>label</th>\n",
       "    </tr>\n",
       "  </thead>\n",
       "  <tbody>\n",
       "    <tr>\n",
       "      <th>0</th>\n",
       "      <td>29</td>\n",
       "      <td>1</td>\n",
       "      <td>4.745402</td>\n",
       "      <td>paypal</td>\n",
       "      <td>28.204861</td>\n",
       "      <td>0</td>\n",
       "    </tr>\n",
       "    <tr>\n",
       "      <th>1</th>\n",
       "      <td>725</td>\n",
       "      <td>1</td>\n",
       "      <td>4.742303</td>\n",
       "      <td>storecredit</td>\n",
       "      <td>0.000000</td>\n",
       "      <td>0</td>\n",
       "    </tr>\n",
       "    <tr>\n",
       "      <th>2</th>\n",
       "      <td>845</td>\n",
       "      <td>1</td>\n",
       "      <td>4.921318</td>\n",
       "      <td>creditcard</td>\n",
       "      <td>0.000000</td>\n",
       "      <td>0</td>\n",
       "    </tr>\n",
       "    <tr>\n",
       "      <th>3</th>\n",
       "      <td>503</td>\n",
       "      <td>1</td>\n",
       "      <td>4.886641</td>\n",
       "      <td>creditcard</td>\n",
       "      <td>0.000000</td>\n",
       "      <td>0</td>\n",
       "    </tr>\n",
       "    <tr>\n",
       "      <th>4</th>\n",
       "      <td>2000</td>\n",
       "      <td>1</td>\n",
       "      <td>5.040929</td>\n",
       "      <td>creditcard</td>\n",
       "      <td>0.000000</td>\n",
       "      <td>0</td>\n",
       "    </tr>\n",
       "    <tr>\n",
       "      <th>5</th>\n",
       "      <td>119</td>\n",
       "      <td>1</td>\n",
       "      <td>4.962055</td>\n",
       "      <td>paypal</td>\n",
       "      <td>0.000000</td>\n",
       "      <td>0</td>\n",
       "    </tr>\n",
       "    <tr>\n",
       "      <th>6</th>\n",
       "      <td>2000</td>\n",
       "      <td>1</td>\n",
       "      <td>4.921349</td>\n",
       "      <td>paypal</td>\n",
       "      <td>0.000000</td>\n",
       "      <td>0</td>\n",
       "    </tr>\n",
       "    <tr>\n",
       "      <th>7</th>\n",
       "      <td>371</td>\n",
       "      <td>1</td>\n",
       "      <td>4.876771</td>\n",
       "      <td>creditcard</td>\n",
       "      <td>0.000000</td>\n",
       "      <td>0</td>\n",
       "    </tr>\n",
       "    <tr>\n",
       "      <th>8</th>\n",
       "      <td>2000</td>\n",
       "      <td>1</td>\n",
       "      <td>4.748314</td>\n",
       "      <td>creditcard</td>\n",
       "      <td>0.000000</td>\n",
       "      <td>0</td>\n",
       "    </tr>\n",
       "    <tr>\n",
       "      <th>9</th>\n",
       "      <td>4</td>\n",
       "      <td>1</td>\n",
       "      <td>4.461622</td>\n",
       "      <td>creditcard</td>\n",
       "      <td>0.000000</td>\n",
       "      <td>0</td>\n",
       "    </tr>\n",
       "  </tbody>\n",
       "</table>\n",
       "</div>"
      ],
      "text/plain": [
       "   accountAgeDays  numItems  localTime paymentMethod  paymentMethodAgeDays  \\\n",
       "0              29         1   4.745402        paypal             28.204861   \n",
       "1             725         1   4.742303   storecredit              0.000000   \n",
       "2             845         1   4.921318    creditcard              0.000000   \n",
       "3             503         1   4.886641    creditcard              0.000000   \n",
       "4            2000         1   5.040929    creditcard              0.000000   \n",
       "5             119         1   4.962055        paypal              0.000000   \n",
       "6            2000         1   4.921349        paypal              0.000000   \n",
       "7             371         1   4.876771    creditcard              0.000000   \n",
       "8            2000         1   4.748314    creditcard              0.000000   \n",
       "9               4         1   4.461622    creditcard              0.000000   \n",
       "\n",
       "   label  \n",
       "0      0  \n",
       "1      0  \n",
       "2      0  \n",
       "3      0  \n",
       "4      0  \n",
       "5      0  \n",
       "6      0  \n",
       "7      0  \n",
       "8      0  \n",
       "9      0  "
      ]
     },
     "execution_count": 4,
     "metadata": {},
     "output_type": "execute_result"
    }
   ],
   "source": [
    "df.head(10)"
   ]
  },
  {
   "cell_type": "code",
   "execution_count": 5,
   "id": "2dbe0f12",
   "metadata": {},
   "outputs": [
    {
     "data": {
      "text/plain": [
       "accountAgeDays          0\n",
       "numItems                0\n",
       "localTime               0\n",
       "paymentMethod           0\n",
       "paymentMethodAgeDays    0\n",
       "label                   0\n",
       "dtype: int64"
      ]
     },
     "execution_count": 5,
     "metadata": {},
     "output_type": "execute_result"
    }
   ],
   "source": [
    "df.isnull().sum()"
   ]
  },
  {
   "cell_type": "code",
   "execution_count": 6,
   "id": "3adaf341",
   "metadata": {},
   "outputs": [
    {
     "name": "stdout",
     "output_type": "stream",
     "text": [
      "<class 'pandas.core.frame.DataFrame'>\n",
      "RangeIndex: 39221 entries, 0 to 39220\n",
      "Data columns (total 6 columns):\n",
      " #   Column                Non-Null Count  Dtype  \n",
      "---  ------                --------------  -----  \n",
      " 0   accountAgeDays        39221 non-null  int64  \n",
      " 1   numItems              39221 non-null  int64  \n",
      " 2   localTime             39221 non-null  float64\n",
      " 3   paymentMethod         39221 non-null  object \n",
      " 4   paymentMethodAgeDays  39221 non-null  float64\n",
      " 5   label                 39221 non-null  int64  \n",
      "dtypes: float64(2), int64(3), object(1)\n",
      "memory usage: 1.8+ MB\n"
     ]
    }
   ],
   "source": [
    "df.info()"
   ]
  },
  {
   "cell_type": "code",
   "execution_count": 30,
   "id": "b57a6b3c",
   "metadata": {},
   "outputs": [
    {
     "data": {
      "text/plain": [
       "(39221, 6)"
      ]
     },
     "execution_count": 30,
     "metadata": {},
     "output_type": "execute_result"
    }
   ],
   "source": [
    "df.shape"
   ]
  },
  {
   "cell_type": "code",
   "execution_count": 8,
   "id": "03a480b6",
   "metadata": {},
   "outputs": [
    {
     "data": {
      "text/plain": [
       "Index(['accountAgeDays', 'numItems', 'localTime', 'paymentMethod',\n",
       "       'paymentMethodAgeDays', 'label'],\n",
       "      dtype='object')"
      ]
     },
     "execution_count": 8,
     "metadata": {},
     "output_type": "execute_result"
    }
   ],
   "source": [
    "df.columns"
   ]
  },
  {
   "cell_type": "code",
   "execution_count": 11,
   "id": "295d19f5",
   "metadata": {},
   "outputs": [
    {
     "data": {
      "text/plain": [
       "1     37398\n",
       "2      1348\n",
       "5       168\n",
       "3       164\n",
       "10       71\n",
       "4        42\n",
       "6        15\n",
       "7         5\n",
       "8         5\n",
       "9         1\n",
       "11        1\n",
       "12        1\n",
       "15        1\n",
       "29        1\n",
       "Name: numItems, dtype: int64"
      ]
     },
     "execution_count": 11,
     "metadata": {},
     "output_type": "execute_result"
    }
   ],
   "source": [
    "df[\"numItems\"].value_counts()"
   ]
  },
  {
   "cell_type": "code",
   "execution_count": 105,
   "id": "df190e26",
   "metadata": {},
   "outputs": [
    {
     "data": {
      "text/plain": [
       "creditcard     28004\n",
       "paypal          9303\n",
       "storecredit     1914\n",
       "Name: paymentMethod, dtype: int64"
      ]
     },
     "execution_count": 105,
     "metadata": {},
     "output_type": "execute_result"
    }
   ],
   "source": [
    "df[\"paymentMethod\"].value_counts()"
   ]
  },
  {
   "cell_type": "code",
   "execution_count": 19,
   "id": "c3302b79",
   "metadata": {},
   "outputs": [
    {
     "data": {
      "text/plain": [
       "<AxesSubplot:ylabel='Frequency'>"
      ]
     },
     "execution_count": 19,
     "metadata": {},
     "output_type": "execute_result"
    },
    {
     "data": {
      "image/png": "[encoded data removed]",
      "text/plain": [
       "<Figure size 432x288 with 1 Axes>"
      ]
     },
     "metadata": {
      "needs_background": "light"
     },
     "output_type": "display_data"
    }
   ],
   "source": [
    "df[\"numItems\"].plot.hist(bins=30)"
   ]
  },
  {
   "cell_type": "code",
   "execution_count": 20,
   "id": "62a2068e",
   "metadata": {},
   "outputs": [
    {
     "data": {
      "text/plain": [
       "<AxesSubplot:ylabel='Frequency'>"
      ]
     },
     "execution_count": 20,
     "metadata": {},
     "output_type": "execute_result"
    },
    {
     "data": {
      "image/png": "[encoded data removed]",
      "text/plain": [
       "<Figure size 432x288 with 1 Axes>"
      ]
     },
     "metadata": {
      "needs_background": "light"
     },
     "output_type": "display_data"
    }
   ],
   "source": [
    "df[\"paymentMethodAgeDays\"].plot.hist()"
   ]
  },
  {
   "cell_type": "code",
   "execution_count": 21,
   "id": "9aa46a76",
   "metadata": {},
   "outputs": [
    {
     "data": {
      "image/png": "[encoded data removed]",
      "text/plain": [
       "<Figure size 1440x1080 with 6 Axes>"
      ]
     },
     "metadata": {
      "needs_background": "light"
     },
     "output_type": "display_data"
    }
   ],
   "source": [
    "df.hist(bins=50, figsize=(20,15))\n",
    "plt.show()"
   ]
  },
  {
   "cell_type": "code",
   "execution_count": 23,
   "id": "f774bdfe",
   "metadata": {},
   "outputs": [
    {
     "data": {
      "text/plain": [
       "<AxesSubplot:xlabel='label', ylabel='count'>"
      ]
     },
     "execution_count": 23,
     "metadata": {},
     "output_type": "execute_result"
    },
    {
     "data": {
      "image/png": "[encoded data removed]",
      "text/plain": [
       "<Figure size 432x288 with 1 Axes>"
      ]
     },
     "metadata": {
      "needs_background": "light"
     },
     "output_type": "display_data"
    }
   ],
   "source": [
    "sns.countplot(x=\"label\", data=df)"
   ]
  },
  {
   "cell_type": "markdown",
   "id": "9e9fa257",
   "metadata": {},
   "source": [
    "**Correlation analysis**"
   ]
  },
  {
   "cell_type": "code",
   "execution_count": 22,
   "id": "047bd981",
   "metadata": {},
   "outputs": [],
   "source": [
    "##Calculation of the standard correlation coefficient\n",
    "corr_matrix = df.corr()"
   ]
  },
  {
   "cell_type": "code",
   "execution_count": 24,
   "id": "00d3ace1",
   "metadata": {},
   "outputs": [
    {
     "data": {
      "text/plain": [
       "label                   1.000000\n",
       "numItems                0.038116\n",
       "paymentMethodAgeDays   -0.052047\n",
       "localTime              -0.059505\n",
       "accountAgeDays         -0.128098\n",
       "Name: label, dtype: float64"
      ]
     },
     "execution_count": 24,
     "metadata": {},
     "output_type": "execute_result"
    }
   ],
   "source": [
    "## Let's look at how much each attribute correlated wit label\n",
    "corr_matrix[\"label\"].sort_values(ascending=False)"
   ]
  },
  {
   "cell_type": "markdown",
   "id": "c9be804b",
   "metadata": {},
   "source": [
    "Attributes are not that much correlated to the label except \"accountAgeDays\" which is slightly negatively correlated. "
   ]
  },
  {
   "cell_type": "markdown",
   "id": "65d80bfb",
   "metadata": {},
   "source": [
    "**Splitting the data into train and test datasets**"
   ]
  },
  {
   "cell_type": "code",
   "execution_count": 27,
   "id": "eeeb8b41",
   "metadata": {},
   "outputs": [],
   "source": [
    "## Separating features and target datasets\n",
    "features_df = df.drop(\"label\", inplace=False, axis=1)\n",
    "target = df[\"label\"]"
   ]
  },
  {
   "cell_type": "code",
   "execution_count": 28,
   "id": "1e092ec5",
   "metadata": {},
   "outputs": [
    {
     "data": {
      "text/html": [
       "<div>\n",
       "<style scoped>\n",
       "    .dataframe tbody tr th:only-of-type {\n",
       "        vertical-align: middle;\n",
       "    }\n",
       "\n",
       "    .dataframe tbody tr th {\n",
       "        vertical-align: top;\n",
       "    }\n",
       "\n",
       "    .dataframe thead th {\n",
       "        text-align: right;\n",
       "    }\n",
       "</style>\n",
       "<table border=\"1\" class=\"dataframe\">\n",
       "  <thead>\n",
       "    <tr style=\"text-align: right;\">\n",
       "      <th></th>\n",
       "      <th>accountAgeDays</th>\n",
       "      <th>numItems</th>\n",
       "      <th>localTime</th>\n",
       "      <th>paymentMethod</th>\n",
       "      <th>paymentMethodAgeDays</th>\n",
       "    </tr>\n",
       "  </thead>\n",
       "  <tbody>\n",
       "    <tr>\n",
       "      <th>0</th>\n",
       "      <td>29</td>\n",
       "      <td>1</td>\n",
       "      <td>4.745402</td>\n",
       "      <td>paypal</td>\n",
       "      <td>28.204861</td>\n",
       "    </tr>\n",
       "    <tr>\n",
       "      <th>1</th>\n",
       "      <td>725</td>\n",
       "      <td>1</td>\n",
       "      <td>4.742303</td>\n",
       "      <td>storecredit</td>\n",
       "      <td>0.000000</td>\n",
       "    </tr>\n",
       "    <tr>\n",
       "      <th>2</th>\n",
       "      <td>845</td>\n",
       "      <td>1</td>\n",
       "      <td>4.921318</td>\n",
       "      <td>creditcard</td>\n",
       "      <td>0.000000</td>\n",
       "    </tr>\n",
       "    <tr>\n",
       "      <th>3</th>\n",
       "      <td>503</td>\n",
       "      <td>1</td>\n",
       "      <td>4.886641</td>\n",
       "      <td>creditcard</td>\n",
       "      <td>0.000000</td>\n",
       "    </tr>\n",
       "    <tr>\n",
       "      <th>4</th>\n",
       "      <td>2000</td>\n",
       "      <td>1</td>\n",
       "      <td>5.040929</td>\n",
       "      <td>creditcard</td>\n",
       "      <td>0.000000</td>\n",
       "    </tr>\n",
       "  </tbody>\n",
       "</table>\n",
       "</div>"
      ],
      "text/plain": [
       "   accountAgeDays  numItems  localTime paymentMethod  paymentMethodAgeDays\n",
       "0              29         1   4.745402        paypal             28.204861\n",
       "1             725         1   4.742303   storecredit              0.000000\n",
       "2             845         1   4.921318    creditcard              0.000000\n",
       "3             503         1   4.886641    creditcard              0.000000\n",
       "4            2000         1   5.040929    creditcard              0.000000"
      ]
     },
     "execution_count": 28,
     "metadata": {},
     "output_type": "execute_result"
    }
   ],
   "source": [
    "features_df.head()"
   ]
  },
  {
   "cell_type": "code",
   "execution_count": 29,
   "id": "2472d315",
   "metadata": {},
   "outputs": [
    {
     "data": {
      "text/plain": [
       "0    0\n",
       "1    0\n",
       "2    0\n",
       "3    0\n",
       "4    0\n",
       "Name: label, dtype: int64"
      ]
     },
     "execution_count": 29,
     "metadata": {},
     "output_type": "execute_result"
    }
   ],
   "source": [
    "target.head()"
   ]
  },
  {
   "cell_type": "code",
   "execution_count": 31,
   "id": "5be8f9b6",
   "metadata": {},
   "outputs": [],
   "source": [
    "## Creating the training and testing datasets\n",
    "X_train, X_test, y_train, y_test = train_test_split(features_df, target, test_size=0.2, random_state=42)"
   ]
  },
  {
   "cell_type": "markdown",
   "id": "52a0328c",
   "metadata": {},
   "source": [
    "**Preparing the datasets for the Machine Learning algorithms**"
   ]
  },
  {
   "cell_type": "code",
   "execution_count": 91,
   "id": "2416c217",
   "metadata": {},
   "outputs": [],
   "source": [
    "from sklearn.pipeline import Pipeline\n",
    "from sklearn.preprocessing import StandardScaler, OneHotEncoder\n",
    "from sklearn.compose import ColumnTransformer\n",
    "from sklearn.base import BaseEstimator, TransformerMixin\n",
    "from sklearn.pipeline import FeatureUnion"
   ]
  },
  {
   "cell_type": "code",
   "execution_count": 36,
   "id": "186429de",
   "metadata": {},
   "outputs": [],
   "source": [
    "num_names = list(features_df.drop(\"paymentMethod\", axis=1))"
   ]
  },
  {
   "cell_type": "code",
   "execution_count": 37,
   "id": "c74d2162",
   "metadata": {},
   "outputs": [
    {
     "data": {
      "text/plain": [
       "['accountAgeDays', 'numItems', 'localTime', 'paymentMethodAgeDays']"
      ]
     },
     "execution_count": 37,
     "metadata": {},
     "output_type": "execute_result"
    }
   ],
   "source": [
    "num_names"
   ]
  },
  {
   "cell_type": "code",
   "execution_count": 38,
   "id": "d89cdf60",
   "metadata": {},
   "outputs": [],
   "source": [
    "cat_names = [\"paymentMethod\"]"
   ]
  },
  {
   "cell_type": "code",
   "execution_count": 94,
   "id": "bb02bde7",
   "metadata": {},
   "outputs": [],
   "source": [
    "class AttributesSelectedTransformation(BaseEstimator, TransformerMixin):\n",
    "    def __init__(self, num_attributes_selected):\n",
    "        self.num_attributes_selected = num_attributes_selected\n",
    "    def fit(self, X, y=None):\n",
    "        return self\n",
    "    def transform(self, X, y=None):\n",
    "        X_selected = X[self.num_attributes_selected]\n",
    "        return X_selected"
   ]
  },
  {
   "cell_type": "markdown",
   "id": "e8353554",
   "metadata": {},
   "source": [
    "Building a **full pipeline** using `FeatureUnion()`"
   ]
  },
  {
   "cell_type": "code",
   "execution_count": 101,
   "id": "4e34f6f7",
   "metadata": {},
   "outputs": [],
   "source": [
    "num_pipeline = Pipeline([\n",
    "    (\"select_num\", AttributesSelectedTransformation(num_names)),\n",
    "    \n",
    "])"
   ]
  },
  {
   "cell_type": "code",
   "execution_count": 96,
   "id": "fd066eae",
   "metadata": {},
   "outputs": [],
   "source": [
    "cat_pipeline = Pipeline([\n",
    "    (\"select_cat\", AttributesSelectedTransformation(cat_names)),\n",
    "    (\"cat_encoder\", OneHotEncoder(sparse=False)),\n",
    "])"
   ]
  },
  {
   "cell_type": "code",
   "execution_count": 102,
   "id": "747e5e03",
   "metadata": {},
   "outputs": [],
   "source": [
    "full_pipeline = FeatureUnion(transformer_list=[\n",
    "    (\"num_pipeline\", num_pipeline),\n",
    "    (\"cat_pipeline\", cat_pipeline),\n",
    "])"
   ]
  },
  {
   "cell_type": "code",
   "execution_count": 103,
   "id": "3b3f5095",
   "metadata": {},
   "outputs": [],
   "source": [
    "X_train_prepared = full_pipeline.fit_transform(X_train)"
   ]
  },
  {
   "cell_type": "code",
   "execution_count": 99,
   "id": "1c0fa6b5",
   "metadata": {},
   "outputs": [
    {
     "data": {
      "text/plain": [
       "(31376, 7)"
      ]
     },
     "execution_count": 99,
     "metadata": {},
     "output_type": "execute_result"
    }
   ],
   "source": [
    "X_train_prepared.shape"
   ]
  },
  {
   "cell_type": "code",
   "execution_count": 104,
   "id": "6636b7fe",
   "metadata": {},
   "outputs": [
    {
     "data": {
      "text/plain": [
       "array([[2.000000e+03, 1.000000e+00, 4.965339e+00, ..., 1.000000e+00,\n",
       "        0.000000e+00, 0.000000e+00],\n",
       "       [1.889000e+03, 1.000000e+00, 4.836982e+00, ..., 1.000000e+00,\n",
       "        0.000000e+00, 0.000000e+00],\n",
       "       [1.565000e+03, 1.000000e+00, 4.921349e+00, ..., 1.000000e+00,\n",
       "        0.000000e+00, 0.000000e+00],\n",
       "       ...,\n",
       "       [5.290000e+02, 1.000000e+00, 4.895263e+00, ..., 1.000000e+00,\n",
       "        0.000000e+00, 0.000000e+00],\n",
       "       [4.370000e+02, 1.000000e+00, 4.965339e+00, ..., 1.000000e+00,\n",
       "        0.000000e+00, 0.000000e+00],\n",
       "       [2.000000e+03, 1.000000e+00, 4.836982e+00, ..., 1.000000e+00,\n",
       "        0.000000e+00, 0.000000e+00]])"
      ]
     },
     "execution_count": 104,
     "metadata": {},
     "output_type": "execute_result"
    }
   ],
   "source": [
    "X_train_prepared"
   ]
  },
  {
   "cell_type": "markdown",
   "id": "a5365d9f",
   "metadata": {},
   "source": [
    "## Applying Machine Learning Algorithms"
   ]
  },
  {
   "cell_type": "markdown",
   "id": "2c956cae",
   "metadata": {},
   "source": [
    "**SVM**"
   ]
  },
  {
   "cell_type": "code",
   "execution_count": 43,
   "id": "5288c521",
   "metadata": {},
   "outputs": [],
   "source": [
    "from sklearn.svm import SVC"
   ]
  },
  {
   "cell_type": "code",
   "execution_count": 59,
   "id": "2bfe22d8",
   "metadata": {},
   "outputs": [],
   "source": [
    "from sklearn.metrics import precision_score, recall_score"
   ]
  },
  {
   "cell_type": "code",
   "execution_count": 106,
   "id": "8c4628df",
   "metadata": {},
   "outputs": [
    {
     "data": {
      "text/plain": [
       "SVC(gamma='auto')"
      ]
     },
     "execution_count": 106,
     "metadata": {},
     "output_type": "execute_result"
    }
   ],
   "source": [
    "svm_clf = SVC(gamma='auto')\n",
    "svm_clf.fit(X_train_prepared, y_train)"
   ]
  },
  {
   "cell_type": "code",
   "execution_count": 45,
   "id": "136815f5",
   "metadata": {},
   "outputs": [],
   "source": [
    "from sklearn.model_selection import cross_val_score"
   ]
  },
  {
   "cell_type": "code",
   "execution_count": 107,
   "id": "b44e52de",
   "metadata": {},
   "outputs": [
    {
     "data": {
      "text/plain": [
       "0.9999681325685149"
      ]
     },
     "execution_count": 107,
     "metadata": {},
     "output_type": "execute_result"
    }
   ],
   "source": [
    "svm_scores = cross_val_score(svm_clf, X_train_prepared, y_train, cv=10)\n",
    "svm_scores.mean()"
   ]
  },
  {
   "cell_type": "code",
   "execution_count": 108,
   "id": "f5525018",
   "metadata": {},
   "outputs": [],
   "source": [
    "y_train_pred_svm = svm_clf.predict(X_train_prepared)"
   ]
  },
  {
   "cell_type": "code",
   "execution_count": 109,
   "id": "668dec9d",
   "metadata": {},
   "outputs": [
    {
     "data": {
      "text/plain": [
       "array([[30934,     0],\n",
       "       [    1,   441]], dtype=int64)"
      ]
     },
     "execution_count": 109,
     "metadata": {},
     "output_type": "execute_result"
    }
   ],
   "source": [
    "confusion_matrix(y_train, y_train_pred_svm)"
   ]
  },
  {
   "cell_type": "code",
   "execution_count": 122,
   "id": "8eef074e",
   "metadata": {},
   "outputs": [
    {
     "data": {
      "text/plain": [
       "1.0"
      ]
     },
     "execution_count": 122,
     "metadata": {},
     "output_type": "execute_result"
    }
   ],
   "source": [
    "precision_score(y_train, y_train_pred_svm)"
   ]
  },
  {
   "cell_type": "code",
   "execution_count": 123,
   "id": "88924c25",
   "metadata": {},
   "outputs": [
    {
     "data": {
      "text/plain": [
       "0.997737556561086"
      ]
     },
     "execution_count": 123,
     "metadata": {},
     "output_type": "execute_result"
    }
   ],
   "source": [
    "recall_score(y_train, y_train_pred_svm)"
   ]
  },
  {
   "cell_type": "markdown",
   "id": "76bd2ed3",
   "metadata": {},
   "source": [
    "**Logistic Regression**"
   ]
  },
  {
   "cell_type": "code",
   "execution_count": 110,
   "id": "5def4c6b",
   "metadata": {},
   "outputs": [
    {
     "data": {
      "text/plain": [
       "LogisticRegression()"
      ]
     },
     "execution_count": 110,
     "metadata": {},
     "output_type": "execute_result"
    }
   ],
   "source": [
    "lg_clf = LogisticRegression()\n",
    "lg_clf.fit(X_train_prepared, y_train)"
   ]
  },
  {
   "cell_type": "code",
   "execution_count": 111,
   "id": "7072450e",
   "metadata": {},
   "outputs": [
    {
     "data": {
      "text/plain": [
       "1.0"
      ]
     },
     "execution_count": 111,
     "metadata": {},
     "output_type": "execute_result"
    }
   ],
   "source": [
    "lg_scores = cross_val_score(lg_clf, X_train_prepared, y_train, cv=10)\n",
    "lg_scores.mean()"
   ]
  },
  {
   "cell_type": "code",
   "execution_count": 112,
   "id": "e15e1982",
   "metadata": {},
   "outputs": [],
   "source": [
    "y_train_pred_lg = lg_clf.predict(X_train_prepared)"
   ]
  },
  {
   "cell_type": "code",
   "execution_count": 113,
   "id": "067b8485",
   "metadata": {},
   "outputs": [
    {
     "data": {
      "text/plain": [
       "array([[30934,     0],\n",
       "       [    0,   442]], dtype=int64)"
      ]
     },
     "execution_count": 113,
     "metadata": {},
     "output_type": "execute_result"
    }
   ],
   "source": [
    "confusion_matrix(y_train, y_train_pred_lg)"
   ]
  },
  {
   "cell_type": "markdown",
   "id": "f34978aa",
   "metadata": {},
   "source": [
    "**Random Forest**"
   ]
  },
  {
   "cell_type": "code",
   "execution_count": 49,
   "id": "56970ef4",
   "metadata": {},
   "outputs": [],
   "source": [
    "from sklearn.ensemble import RandomForestClassifier"
   ]
  },
  {
   "cell_type": "code",
   "execution_count": 114,
   "id": "b6a600b0",
   "metadata": {},
   "outputs": [
    {
     "data": {
      "text/plain": [
       "RandomForestClassifier()"
      ]
     },
     "execution_count": 114,
     "metadata": {},
     "output_type": "execute_result"
    }
   ],
   "source": [
    "forest_clf = RandomForestClassifier()\n",
    "forest_clf.fit(X_train_prepared, y_train)"
   ]
  },
  {
   "cell_type": "code",
   "execution_count": 115,
   "id": "1dccc06e",
   "metadata": {},
   "outputs": [
    {
     "data": {
      "text/plain": [
       "1.0"
      ]
     },
     "execution_count": 115,
     "metadata": {},
     "output_type": "execute_result"
    }
   ],
   "source": [
    "forest_scores = cross_val_score(forest_clf, X_train_prepared, y_train, cv=10)\n",
    "forest_scores.mean()"
   ]
  },
  {
   "cell_type": "code",
   "execution_count": 116,
   "id": "115868bf",
   "metadata": {},
   "outputs": [],
   "source": [
    "y_train_pred_rf = forest_clf.predict(X_train_prepared)"
   ]
  },
  {
   "cell_type": "code",
   "execution_count": 117,
   "id": "cdc0ee57",
   "metadata": {},
   "outputs": [
    {
     "data": {
      "text/plain": [
       "array([[30934,     0],\n",
       "       [    0,   442]], dtype=int64)"
      ]
     },
     "execution_count": 117,
     "metadata": {},
     "output_type": "execute_result"
    }
   ],
   "source": [
    "confusion_matrix(y_train, y_train_pred_rf)"
   ]
  },
  {
   "cell_type": "code",
   "execution_count": null,
   "id": "1763c94e",
   "metadata": {},
   "outputs": [],
   "source": []
  },
  {
   "cell_type": "code",
   "execution_count": 64,
   "id": "a8c96d2a",
   "metadata": {},
   "outputs": [
    {
     "data": {
      "text/plain": [
       "1.0"
      ]
     },
     "execution_count": 64,
     "metadata": {},
     "output_type": "execute_result"
    }
   ],
   "source": [
    "precision_score(y_train, y_train_pred_rf)"
   ]
  },
  {
   "cell_type": "code",
   "execution_count": 65,
   "id": "5d236b89",
   "metadata": {},
   "outputs": [
    {
     "data": {
      "text/plain": [
       "1.0"
      ]
     },
     "execution_count": 65,
     "metadata": {},
     "output_type": "execute_result"
    }
   ],
   "source": [
    "recall_score(y_train, y_train_pred_rf)"
   ]
  },
  {
   "cell_type": "markdown",
   "id": "6a5ae8b3",
   "metadata": {},
   "source": [
    "Random Forest and logistic regression are the algorithms that are performing the best on the dataset."
   ]
  },
  {
   "cell_type": "code",
   "execution_count": null,
   "id": "08bdc353",
   "metadata": {},
   "outputs": [],
   "source": []
  },
  {
   "cell_type": "markdown",
   "id": "02c20f9b",
   "metadata": {},
   "source": [
    "# Application on test data"
   ]
  },
  {
   "cell_type": "code",
   "execution_count": 118,
   "id": "c40a982c",
   "metadata": {},
   "outputs": [],
   "source": [
    "X_test_prepared = full_pipeline.fit_transform(X_test)"
   ]
  },
  {
   "cell_type": "code",
   "execution_count": 119,
   "id": "59159bba",
   "metadata": {},
   "outputs": [],
   "source": [
    "y_pred = forest_clf.predict(X_test_prepared)"
   ]
  },
  {
   "cell_type": "code",
   "execution_count": 120,
   "id": "831fb3cd",
   "metadata": {},
   "outputs": [
    {
     "data": {
      "text/plain": [
       "array([[7727,    0],\n",
       "       [   0,  118]], dtype=int64)"
      ]
     },
     "execution_count": 120,
     "metadata": {},
     "output_type": "execute_result"
    }
   ],
   "source": [
    "confusion_matrix(y_test, y_pred)"
   ]
  },
  {
   "cell_type": "code",
   "execution_count": 121,
   "id": "712fd905",
   "metadata": {},
   "outputs": [
    {
     "data": {
      "text/plain": [
       "1.0"
      ]
     },
     "execution_count": 121,
     "metadata": {},
     "output_type": "execute_result"
    }
   ],
   "source": [
    "accuracy_score(y_test, y_pred)"
   ]
  },
  {
   "cell_type": "code",
   "execution_count": null,
   "id": "5a3d5c6c",
   "metadata": {},
   "outputs": [],
   "source": []
  }
 ],
 "metadata": {
  "kernelspec": {
   "display_name": "Python 3",
   "language": "python",
   "name": "python3"
  },
  "language_info": {
   "codemirror_mode": {
    "name": "ipython",
    "version": 3
   },
   "file_extension": ".py",
   "mimetype": "text/x-python",
   "name": "python",
   "nbconvert_exporter": "python",
   "pygments_lexer": "ipython3",
   "version": "3.8.8"
  }
 },
 "nbformat": 4,
 "nbformat_minor": 5
}

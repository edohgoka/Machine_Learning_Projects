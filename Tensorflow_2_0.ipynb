{
  "nbformat": 4,
  "nbformat_minor": 0,
  "metadata": {
    "colab": {
      "name": "Tensorflow_2.0.ipynb",
      "provenance": [],
      "collapsed_sections": []
    },
    "kernelspec": {
      "name": "python3",
      "display_name": "Python 3"
    },
    "language_info": {
      "name": "python"
    }
  },
  "cells": [
    {
      "cell_type": "code",
      "metadata": {
        "colab": {
          "base_uri": "https://localhost:8080/",
          "height": 35
        },
        "id": "3YjbEl3LYr3Q",
        "outputId": "1d80dc2d-32d4-40f2-eb26-09dfcdfb833b"
      },
      "source": [
        "import tensorflow as tf\n",
        "import numpy as np\n",
        "\n",
        "# Let's check the current recommended vesrion of tensorflow\n",
        "tf.__version__"
      ],
      "execution_count": 1,
      "outputs": [
        {
          "output_type": "execute_result",
          "data": {
            "application/vnd.google.colaboratory.intrinsic+json": {
              "type": "string"
            },
            "text/plain": [
              "'2.6.0'"
            ]
          },
          "metadata": {},
          "execution_count": 1
        }
      ]
    },
    {
      "cell_type": "markdown",
      "metadata": {
        "id": "IBBEveMdZDXX"
      },
      "source": [
        "**Creating a Tensor**"
      ]
    },
    {
      "cell_type": "code",
      "metadata": {
        "colab": {
          "base_uri": "https://localhost:8080/"
        },
        "id": "iPItUg1ZYuai",
        "outputId": "e01fcdd9-1329-4679-b26e-e56a7258daf0"
      },
      "source": [
        "# Rank 0Tebsor (scaler)\n",
        "a = tf.constant(3)\n",
        "print(a) # \"a\" is a Rank 0 Tensor (0 dimensional array) of Int32"
      ],
      "execution_count": 2,
      "outputs": [
        {
          "output_type": "stream",
          "text": [
            "tf.Tensor(3, shape=(), dtype=int32)\n"
          ],
          "name": "stdout"
        }
      ]
    },
    {
      "cell_type": "code",
      "metadata": {
        "colab": {
          "base_uri": "https://localhost:8080/"
        },
        "id": "tWrJtmbZYueE",
        "outputId": "a54c938b-e4ae-4cdd-dac0-25bff3fda528"
      },
      "source": [
        "# Rank 1 Tensor\n",
        "b = tf.constant([1, 2, 3, 4])\n",
        "print(b) # \"b\" is a Rank 1 Tensor of Int32"
      ],
      "execution_count": 5,
      "outputs": [
        {
          "output_type": "stream",
          "text": [
            "tf.Tensor([1 2 3 4], shape=(4,), dtype=int32)\n"
          ],
          "name": "stdout"
        }
      ]
    },
    {
      "cell_type": "code",
      "metadata": {
        "colab": {
          "base_uri": "https://localhost:8080/"
        },
        "id": "DkvzJUfAYuh_",
        "outputId": "7c980c92-ee22-43f1-ed80-2ee0021b8f5f"
      },
      "source": [
        "# Rank 2 Tensor\n",
        "c = tf.constant([[1, 2], [3, 4]])\n",
        "print(c) # \"c\" is a Rank 2 Tensor of Int32"
      ],
      "execution_count": 6,
      "outputs": [
        {
          "output_type": "stream",
          "text": [
            "tf.Tensor(\n",
            "[[1 2]\n",
            " [3 4]], shape=(2, 2), dtype=int32)\n"
          ],
          "name": "stdout"
        }
      ]
    },
    {
      "cell_type": "markdown",
      "metadata": {
        "id": "Mk_xChngadzC"
      },
      "source": [
        "**Converting Numpy array to Tensor**"
      ]
    },
    {
      "cell_type": "code",
      "metadata": {
        "colab": {
          "base_uri": "https://localhost:8080/"
        },
        "id": "mK5Zv6S1YulT",
        "outputId": "3bad5949-b087-4f81-9795-de4ae7aba1f7"
      },
      "source": [
        "array = np.array([1, 2, 3, 4])\n",
        "print(\"Before: \", array)\n",
        "array = tf.convert_to_tensor(array)\n",
        "print(\"After: \", array)"
      ],
      "execution_count": 8,
      "outputs": [
        {
          "output_type": "stream",
          "text": [
            "Before:  [1 2 3 4]\n",
            "After:  tf.Tensor([1 2 3 4], shape=(4,), dtype=int64)\n"
          ],
          "name": "stdout"
        }
      ]
    },
    {
      "cell_type": "markdown",
      "metadata": {
        "id": "8WlVkQo2bK1l"
      },
      "source": [
        "**Arithmetic operations on Tensor**"
      ]
    },
    {
      "cell_type": "code",
      "metadata": {
        "id": "lZEoV_wOYupM"
      },
      "source": [
        "# Sample 2D tensor\n",
        "tensor = tf.constant([[1, 2], [3, 4]])"
      ],
      "execution_count": 9,
      "outputs": []
    },
    {
      "cell_type": "code",
      "metadata": {
        "colab": {
          "base_uri": "https://localhost:8080/"
        },
        "id": "_9KUwGBobQR4",
        "outputId": "92ec61fc-82f9-412d-842b-38aa9542e4ac"
      },
      "source": [
        "# Add 1 to all position\n",
        "tensor = tf.add(tensor, 1)\n",
        "print(\"Added 1: \", tensor)"
      ],
      "execution_count": 10,
      "outputs": [
        {
          "output_type": "stream",
          "text": [
            "Added 1:  tf.Tensor(\n",
            "[[2 3]\n",
            " [4 5]], shape=(2, 2), dtype=int32)\n"
          ],
          "name": "stdout"
        }
      ]
    },
    {
      "cell_type": "code",
      "metadata": {
        "colab": {
          "base_uri": "https://localhost:8080/"
        },
        "id": "IiT8ednabQVL",
        "outputId": "d43666d7-19df-497f-96df-70fb8c60c260"
      },
      "source": [
        "# sub 1 from all positions\n",
        "tensor = tf.subtract(tensor, 1)\n",
        "print(\"sbtracted 1: \", tensor)"
      ],
      "execution_count": 12,
      "outputs": [
        {
          "output_type": "stream",
          "text": [
            "sbtracted 1:  tf.Tensor(\n",
            "[[1 2]\n",
            " [3 4]], shape=(2, 2), dtype=int32)\n"
          ],
          "name": "stdout"
        }
      ]
    },
    {
      "cell_type": "code",
      "metadata": {
        "colab": {
          "base_uri": "https://localhost:8080/"
        },
        "id": "Z4Ret43ZbQX3",
        "outputId": "8e884a2f-45fb-49d7-ace6-acf8ade5206e"
      },
      "source": [
        "# Div 2 on all positions\n",
        "tensor = tf.divide(tensor, 2)\n",
        "print(\"Divided by 2: \", tensor)"
      ],
      "execution_count": 13,
      "outputs": [
        {
          "output_type": "stream",
          "text": [
            "Divided by 2:  tf.Tensor(\n",
            "[[0.5 1. ]\n",
            " [1.5 2. ]], shape=(2, 2), dtype=float64)\n"
          ],
          "name": "stdout"
        }
      ]
    },
    {
      "cell_type": "code",
      "metadata": {
        "colab": {
          "base_uri": "https://localhost:8080/"
        },
        "id": "8s0zhYvwbQar",
        "outputId": "a514a5e9-858f-42bb-f911-62d7742dc17b"
      },
      "source": [
        "# Multiply by 2 all positions\n",
        "tensor = tf.multiply(tensor, 2)\n",
        "print(\"Multiplied by 2: \", tensor)"
      ],
      "execution_count": 14,
      "outputs": [
        {
          "output_type": "stream",
          "text": [
            "Multiplied by 2:  tf.Tensor(\n",
            "[[1. 2.]\n",
            " [3. 4.]], shape=(2, 2), dtype=float64)\n"
          ],
          "name": "stdout"
        }
      ]
    },
    {
      "cell_type": "code",
      "metadata": {
        "id": "QylixEg-bQdj"
      },
      "source": [
        "# We can also performed arithmetic operations over vectors"
      ],
      "execution_count": null,
      "outputs": []
    },
    {
      "cell_type": "markdown",
      "metadata": {
        "id": "8dpAMQ4KdTVS"
      },
      "source": [
        "**Matrix** **Multiplication**"
      ]
    },
    {
      "cell_type": "code",
      "metadata": {
        "colab": {
          "base_uri": "https://localhost:8080/"
        },
        "id": "CPoe_DA3bQfL",
        "outputId": "5c836624-745f-4574-ee5e-8bc40dd0c42f"
      },
      "source": [
        "tensor = tf.constant([[1, 2], [3, 4]])\n",
        "tf.matmul(tensor, tensor)"
      ],
      "execution_count": 15,
      "outputs": [
        {
          "output_type": "execute_result",
          "data": {
            "text/plain": [
              "<tf.Tensor: shape=(2, 2), dtype=int32, numpy=\n",
              "array([[ 7, 10],\n",
              "       [15, 22]], dtype=int32)>"
            ]
          },
          "metadata": {},
          "execution_count": 15
        }
      ]
    },
    {
      "cell_type": "code",
      "metadata": {
        "colab": {
          "base_uri": "https://localhost:8080/"
        },
        "id": "_mL4LW-VdhES",
        "outputId": "4affdb7f-69cb-4e8f-8314-4d893c830034"
      },
      "source": [
        "tf.multiply(tensor, tensor)"
      ],
      "execution_count": 16,
      "outputs": [
        {
          "output_type": "execute_result",
          "data": {
            "text/plain": [
              "<tf.Tensor: shape=(2, 2), dtype=int32, numpy=\n",
              "array([[ 1,  4],\n",
              "       [ 9, 16]], dtype=int32)>"
            ]
          },
          "metadata": {},
          "execution_count": 16
        }
      ]
    },
    {
      "cell_type": "markdown",
      "metadata": {
        "id": "e09_Yc21dpda"
      },
      "source": [
        "**Activations**"
      ]
    },
    {
      "cell_type": "code",
      "metadata": {
        "colab": {
          "base_uri": "https://localhost:8080/"
        },
        "id": "81fCC7NZdhH6",
        "outputId": "439235ce-12a8-49b1-b8a0-559011a20f43"
      },
      "source": [
        "tensor = tf.constant([[1, 2], [5, 10]], dtype=tf.float64)\n",
        "tensor"
      ],
      "execution_count": 17,
      "outputs": [
        {
          "output_type": "execute_result",
          "data": {
            "text/plain": [
              "<tf.Tensor: shape=(2, 2), dtype=float64, numpy=\n",
              "array([[ 1.,  2.],\n",
              "       [ 5., 10.]])>"
            ]
          },
          "metadata": {},
          "execution_count": 17
        }
      ]
    },
    {
      "cell_type": "code",
      "metadata": {
        "colab": {
          "base_uri": "https://localhost:8080/"
        },
        "id": "Y3lFGJzWdhLI",
        "outputId": "6f618570-3eb2-47d5-f3cf-f9afd411509d"
      },
      "source": [
        "# Appling softmax\n",
        "tf.nn.softmax(tensor)"
      ],
      "execution_count": 18,
      "outputs": [
        {
          "output_type": "execute_result",
          "data": {
            "text/plain": [
              "<tf.Tensor: shape=(2, 2), dtype=float64, numpy=\n",
              "array([[0.26894142, 0.73105858],\n",
              "       [0.00669285, 0.99330715]])>"
            ]
          },
          "metadata": {},
          "execution_count": 18
        }
      ]
    },
    {
      "cell_type": "code",
      "metadata": {
        "colab": {
          "base_uri": "https://localhost:8080/"
        },
        "id": "5x0fFkN3dhOM",
        "outputId": "d7fba47e-9385-4044-efeb-3d4c10e7ddd7"
      },
      "source": [
        "# Appling relu\n",
        "tf.nn.relu(tensor)"
      ],
      "execution_count": 19,
      "outputs": [
        {
          "output_type": "execute_result",
          "data": {
            "text/plain": [
              "<tf.Tensor: shape=(2, 2), dtype=float64, numpy=\n",
              "array([[ 1.,  2.],\n",
              "       [ 5., 10.]])>"
            ]
          },
          "metadata": {},
          "execution_count": 19
        }
      ]
    },
    {
      "cell_type": "code",
      "metadata": {
        "colab": {
          "base_uri": "https://localhost:8080/"
        },
        "id": "RlwvNSDZdhRB",
        "outputId": "f3a121b8-f3be-44f2-f628-54bcd3e4f249"
      },
      "source": [
        "# Appling leaky relu\n",
        "tf.nn.leaky_relu(tensor)"
      ],
      "execution_count": 20,
      "outputs": [
        {
          "output_type": "execute_result",
          "data": {
            "text/plain": [
              "<tf.Tensor: shape=(2, 2), dtype=float64, numpy=\n",
              "array([[ 1.,  2.],\n",
              "       [ 5., 10.]])>"
            ]
          },
          "metadata": {},
          "execution_count": 20
        }
      ]
    },
    {
      "cell_type": "code",
      "metadata": {
        "id": "2EJK_y41dhT5"
      },
      "source": [
        "# Tensorflow has all the activation function built in it and ready to be used"
      ],
      "execution_count": null,
      "outputs": []
    },
    {
      "cell_type": "markdown",
      "metadata": {
        "id": "dHx-olQ8kTsD"
      },
      "source": [
        "**Optimizers**"
      ]
    },
    {
      "cell_type": "code",
      "metadata": {
        "colab": {
          "base_uri": "https://localhost:8080/"
        },
        "id": "4JFMeyzIdhW9",
        "outputId": "6bafcd24-3147-4b52-d907-5dffe673b2ed"
      },
      "source": [
        "# Tensorflow has all known Optimizers \n",
        "Optimizer = tf.keras.optimizers.Adam()\n",
        "print(Optimizer) # Refers to Optimizer class created"
      ],
      "execution_count": 21,
      "outputs": [
        {
          "output_type": "stream",
          "text": [
            "<keras.optimizer_v2.adam.Adam object at 0x7efc24ce8990>\n"
          ],
          "name": "stdout"
        }
      ]
    },
    {
      "cell_type": "markdown",
      "metadata": {
        "id": "gjZCTxYikzQe"
      },
      "source": [
        "**Basic Neural Network Structure**"
      ]
    },
    {
      "cell_type": "code",
      "metadata": {
        "colab": {
          "base_uri": "https://localhost:8080/"
        },
        "id": "wOSn0oApdhZJ",
        "outputId": "d624182c-cdd7-499f-b997-b2c24b6b7e64"
      },
      "source": [
        "# Start the model with Sequential object\n",
        "model = tf.keras.models.Sequential()\n",
        "\n",
        "# Next add in the input object and specify the dimension to pass in\n",
        "model.add(tf.keras.Input(shape=(10,))) # 10 here represents the number of columns in the data set\n",
        "\n",
        "# Add in the neurons the first layer\n",
        "model.add(tf.keras.layers.Dense(32))\n",
        "\n",
        "# Add 2nd layer\n",
        "model.add(tf.keras.layers.Dense(16))\n",
        "\n",
        "# Print summary to understand the neural network flow\n",
        "model.summary()"
      ],
      "execution_count": 22,
      "outputs": [
        {
          "output_type": "stream",
          "text": [
            "Model: \"sequential\"\n",
            "_________________________________________________________________\n",
            "Layer (type)                 Output Shape              Param #   \n",
            "=================================================================\n",
            "dense (Dense)                (None, 32)                352       \n",
            "_________________________________________________________________\n",
            "dense_1 (Dense)              (None, 16)                528       \n",
            "=================================================================\n",
            "Total params: 880\n",
            "Trainable params: 880\n",
            "Non-trainable params: 0\n",
            "_________________________________________________________________\n"
          ],
          "name": "stdout"
        }
      ]
    }
  ]
}
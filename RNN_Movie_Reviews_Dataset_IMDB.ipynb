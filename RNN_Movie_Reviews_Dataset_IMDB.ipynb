{
  "nbformat": 4,
  "nbformat_minor": 0,
  "metadata": {
    "colab": {
      "name": "RNN_Movie_Reviews_Dataset_IMDB.ipynb",
      "provenance": []
    },
    "kernelspec": {
      "name": "python3",
      "display_name": "Python 3"
    },
    "language_info": {
      "name": "python"
    }
  },
  "cells": [
    {
      "cell_type": "code",
      "metadata": {
        "colab": {
          "base_uri": "https://localhost:8080/"
        },
        "id": "_Ykr63Hnu96o",
        "outputId": "74e76ea8-84fd-4e57-ba7a-8d36972367d1"
      },
      "source": [
        "!wget https://www.dropbox.com/s/pdhwlpi2yeie0ol/movie-reviews-dataset.zip"
      ],
      "execution_count": null,
      "outputs": [
        {
          "output_type": "stream",
          "name": "stdout",
          "text": [
            "--2021-08-31 10:26:55--  https://www.dropbox.com/s/pdhwlpi2yeie0ol/movie-reviews-dataset.zip\n",
            "Resolving www.dropbox.com (www.dropbox.com)... 162.125.65.18, 2620:100:6017:18::a27d:212\n",
            "Connecting to www.dropbox.com (www.dropbox.com)|162.125.65.18|:443... connected.\n",
            "HTTP request sent, awaiting response... 301 Moved Permanently\n",
            "Location: /s/raw/pdhwlpi2yeie0ol/movie-reviews-dataset.zip [following]\n",
            "--2021-08-31 10:26:55--  https://www.dropbox.com/s/raw/pdhwlpi2yeie0ol/movie-reviews-dataset.zip\n",
            "Reusing existing connection to www.dropbox.com:443.\n",
            "HTTP request sent, awaiting response... 302 Found\n",
            "Location: https://uc41307ad30891694f69e5a978e3.dl.dropboxusercontent.com/cd/0/inline/BVQSR5DmzMzrBe2k3b6QV9eC-CazorPJShG9ZSCLZPvuvjv6TPORawd4X3YdfIt_UjGDno3Iqs4rPsNR8NtAv2p-7kFNIOTDKudGaLU6V5g82AteRjKYzJLDAVPGgpWJUpknYbyvxOiUb7zYlWlKlXd2/file# [following]\n",
            "--2021-08-31 10:26:56--  https://uc41307ad30891694f69e5a978e3.dl.dropboxusercontent.com/cd/0/inline/BVQSR5DmzMzrBe2k3b6QV9eC-CazorPJShG9ZSCLZPvuvjv6TPORawd4X3YdfIt_UjGDno3Iqs4rPsNR8NtAv2p-7kFNIOTDKudGaLU6V5g82AteRjKYzJLDAVPGgpWJUpknYbyvxOiUb7zYlWlKlXd2/file\n",
            "Resolving uc41307ad30891694f69e5a978e3.dl.dropboxusercontent.com (uc41307ad30891694f69e5a978e3.dl.dropboxusercontent.com)... 162.125.65.15, 2620:100:6027:15::a27d:480f\n",
            "Connecting to uc41307ad30891694f69e5a978e3.dl.dropboxusercontent.com (uc41307ad30891694f69e5a978e3.dl.dropboxusercontent.com)|162.125.65.15|:443... connected.\n",
            "HTTP request sent, awaiting response... 302 Found\n",
            "Location: /cd/0/inline2/BVSjqRWTcpAg2ZqBbw5V1Od7kEdO9fCFQNPtkReG2cUmnte8XuoJq5Ja1GAEBGvCtyVER_9oHcdC0IkAPJfZH-w-_yTKXkU6NfYxiF1V702hLl1fnIkxe_kIzVGtc6VXxLUKrDx1DkQ6alb10cV5WWUTUBhfFKV2Jh7eHQtfAjdPbrJ9t6sOqo__8MjqGPfN-kbZ4h8Qh5BP4ZkDaDMLnvtOoY6u_ciUBWJCafPRR5jkbzJHmpQ-hZG4MajAFJLh3dkk9hNh1ppwuTZvxFl_p45nSoecb0Wn7eTc4ygzeF7MjeJeJc9E23RYnVLe0AKFonlAuJR0JBC0VYZDU2ADP6nG8oTy8Ql03QsuXh9MGG9teyY3HDgIL8JKkUBUjLe2XDE/file [following]\n",
            "--2021-08-31 10:26:57--  https://uc41307ad30891694f69e5a978e3.dl.dropboxusercontent.com/cd/0/inline2/BVSjqRWTcpAg2ZqBbw5V1Od7kEdO9fCFQNPtkReG2cUmnte8XuoJq5Ja1GAEBGvCtyVER_9oHcdC0IkAPJfZH-w-_yTKXkU6NfYxiF1V702hLl1fnIkxe_kIzVGtc6VXxLUKrDx1DkQ6alb10cV5WWUTUBhfFKV2Jh7eHQtfAjdPbrJ9t6sOqo__8MjqGPfN-kbZ4h8Qh5BP4ZkDaDMLnvtOoY6u_ciUBWJCafPRR5jkbzJHmpQ-hZG4MajAFJLh3dkk9hNh1ppwuTZvxFl_p45nSoecb0Wn7eTc4ygzeF7MjeJeJc9E23RYnVLe0AKFonlAuJR0JBC0VYZDU2ADP6nG8oTy8Ql03QsuXh9MGG9teyY3HDgIL8JKkUBUjLe2XDE/file\n",
            "Reusing existing connection to uc41307ad30891694f69e5a978e3.dl.dropboxusercontent.com:443.\n",
            "HTTP request sent, awaiting response... 200 OK\n",
            "Length: 62951389 (60M) [application/zip]\n",
            "Saving to: ‘movie-reviews-dataset.zip’\n",
            "\n",
            "movie-reviews-datas 100%[===================>]  60.03M  16.6MB/s    in 4.4s    \n",
            "\n",
            "2021-08-31 10:27:02 (13.5 MB/s) - ‘movie-reviews-dataset.zip’ saved [62951389/62951389]\n",
            "\n"
          ]
        }
      ]
    },
    {
      "cell_type": "code",
      "metadata": {
        "id": "SCCmDkApvzHJ"
      },
      "source": [
        "# Let's unzip the file\n",
        "!unzip -q \"/content/movie-reviews-dataset.zip\""
      ],
      "execution_count": null,
      "outputs": []
    },
    {
      "cell_type": "code",
      "metadata": {
        "id": "sZkcjoQXvzKh"
      },
      "source": [
        "from tensorflow.keras.preprocessing import  text_dataset_from_directory\n",
        "from tensorflow.strings import regex_replace\n",
        "from tensorflow.keras.layers.experimental.preprocessing import TextVectorization\n",
        "from tensorflow.keras.models import Sequential\n",
        "from tensorflow.keras import Input\n",
        "from tensorflow.keras.layers import Dense, RNN, SimpleRNNCell, Embedding, Dropout"
      ],
      "execution_count": null,
      "outputs": []
    },
    {
      "cell_type": "code",
      "metadata": {
        "id": "7dfX0O2JvzOg"
      },
      "source": [
        "def prepareData(dir):\n",
        "  data = text_dataset_from_directory(dir)\n",
        "  return data.map(\n",
        "      lambda text, label: (regex_replace(text, \"<br />\", \" \"), label),\n",
        "  )"
      ],
      "execution_count": null,
      "outputs": []
    },
    {
      "cell_type": "code",
      "metadata": {
        "colab": {
          "base_uri": "https://localhost:8080/"
        },
        "id": "zOAIlkf_xPuP",
        "outputId": "dc26ff76-3c39-49aa-8b49-0c5a8dd54ab7"
      },
      "source": [
        "train_data = prepareData(\"/content/movie-reviews-dataset/train\")\n",
        "test_data = prepareData(\"/content/movie-reviews-dataset/test\")\n",
        "\n",
        "for text_batch, label_batch in train_data.take(1):\n",
        "  print(text_batch.numpy()[0])\n",
        "  print(label_batch.numpy()[0])"
      ],
      "execution_count": null,
      "outputs": [
        {
          "output_type": "stream",
          "name": "stdout",
          "text": [
            "Found 25000 files belonging to 2 classes.\n",
            "Found 25000 files belonging to 2 classes.\n",
            "b'A CRY IN THE DARK   A CRY IN THE DARK was a film that I anticipated would offer a phenomenal performance from Meryl Streep and a solid, if unremarkable film. This assumption came from the fact that aside from Streep\\'s Best Actress nomination, the movie received little attention from major awards groups.  Little did I anticipate that A CRY IN THE DARK would be such a riveting drama, well-constructed on every level. If you ask me, this is an under-appreciatted classic.  The film opens rather slowly, letting the audience settle into the Chamberlain\\'s at a relaxed pace and really notice that, at the core, they are an incredibly loving, simple family. Fred Schepisi (the director) selects random moments to capture of a family on vacation that give a looming sense of the oncoming tragedy, while also showing the attentive bliss with which Lindy (Streep) and Michael (Sam Neill) Chamberlain care for their children.  While the famous line \"A Dingo Took My Baby!\" has become somewhat of a punchline these days, the movie never even comes close to laughable. The actual death of Azaria is horrifyingly captured. It is subtle and realistic, leaving the audience horrified and asking questions.  The majority of the film takes place in courtrooms and focuses on the Chamberlain\\'s continuous fight to prove their innocence to the press and the court, which suspects Lindy of murder.  The fact that it is clear to us from the beginning that they are innocent makes the tense trials all the more gripping. As an audience member, I was fully invested in the Chamberlain\\'s plight... and was genuinely angered and hurt and saddened when they were made to look so terrible by the media. But at the same, the media/public opinion is understandable. I loved the way the media was by no means made to be sympathetic, but they always had valid reasons to hold their views.  The final line of the film is very profound and captures perfectly the central element that makes this film so much different from other courtroom dramas.  In terms of performances, the only ones that really matter in this film are those of Streep and Neill... and they deliver in every way. For me, this ranks as one of (if not #1) Meryl Streep\\'s best performances. For all her mastery of different accents (which of course are very impressive in their own right), Streep never loses the central heart and soul of her characters. I find this to be one of Streep\\'s more subtle performances, and she hits it out of the park. And Neill, an actor who has never impressed me beyond being charismatic and appealing in JURASSIC PARK, is a perfect counterpoint to Streep\\'s performance. From what I\\'ve seen, this is undoubtedly Neill\\'s finest work to date. It\\'s a shame he wasn\\'t recognized by the Academy with a Leading Actor nomination to match Streep\\'s... b/c the two of them play of each other brilliantly.  More emotionally gripping than most films, and also incredibly suspenseful... A CRY IN THE DARK far exceeded my expectations. I highly recommend that people who only know of the movie as the flick where Meryl screams \"The dingo took my baby!\" watch the film and see just how much more there is to A CRY IN THE DARK then that one line.  ... A ...'\n",
            "1\n"
          ]
        }
      ]
    },
    {
      "cell_type": "code",
      "metadata": {
        "id": "RxNKI_8ixPxg"
      },
      "source": [
        "model =Sequential()"
      ],
      "execution_count": null,
      "outputs": []
    },
    {
      "cell_type": "code",
      "metadata": {
        "id": "nsN3_WajxP1L"
      },
      "source": [
        "model.add(Input(shape=(1,), dtype=\"string\"))"
      ],
      "execution_count": null,
      "outputs": []
    },
    {
      "cell_type": "code",
      "metadata": {
        "id": "atMG_L0vxP4I"
      },
      "source": [
        "max_tokens= 1000\n",
        "max_len = 100\n",
        "vectorize_layer = TextVectorization(\n",
        "    max_tokens = max_tokens,\n",
        "    output_mode = 'int',\n",
        "    output_sequence_length = max_len,\n",
        ")"
      ],
      "execution_count": null,
      "outputs": []
    },
    {
      "cell_type": "code",
      "metadata": {
        "id": "G0F6cuKOxP7N"
      },
      "source": [
        ""
      ],
      "execution_count": null,
      "outputs": []
    },
    {
      "cell_type": "code",
      "metadata": {
        "id": "S-NIybDoxP9z"
      },
      "source": [
        "train_texts = train_data.map(lambda text, label: text)\n",
        "vectorize_layer.adapt(train_texts)\n",
        "\n",
        "model.add(vectorize_layer)"
      ],
      "execution_count": null,
      "outputs": []
    },
    {
      "cell_type": "code",
      "metadata": {
        "id": "Wc1xWHx52Cm0"
      },
      "source": [
        "model.add(Embedding(max_tokens + 1, 128))\n",
        "\n",
        "rnn = RNN(SimpleRNNCell(64), return_sequences=False, return_state=False)\n",
        "model.add(rnn)\n",
        "model.add(Dense(64, activation='relu'))\n",
        "model.add(Dense(1, activation='sigmoid'))"
      ],
      "execution_count": null,
      "outputs": []
    },
    {
      "cell_type": "code",
      "metadata": {
        "id": "QzJWzjvq2DQc"
      },
      "source": [
        "model.compile(loss=\"binary_crossentropy\", optimizer=\"adam\", metrics=[\"accuracy\"])"
      ],
      "execution_count": null,
      "outputs": []
    },
    {
      "cell_type": "code",
      "metadata": {
        "colab": {
          "base_uri": "https://localhost:8080/"
        },
        "id": "p3IxCxEW2Crr",
        "outputId": "1447b9f0-ece4-4d1f-f528-df29472ba6ff"
      },
      "source": [
        "model.fit(train_data, epochs=10)"
      ],
      "execution_count": null,
      "outputs": [
        {
          "output_type": "stream",
          "name": "stdout",
          "text": [
            "Epoch 1/10\n",
            "782/782 [==============================] - 32s 39ms/step - loss: 0.6974 - accuracy: 0.5080\n",
            "Epoch 2/10\n",
            "782/782 [==============================] - 30s 39ms/step - loss: 0.6912 - accuracy: 0.5325\n",
            "Epoch 3/10\n",
            "782/782 [==============================] - 30s 39ms/step - loss: 0.6795 - accuracy: 0.5650\n",
            "Epoch 4/10\n",
            "782/782 [==============================] - 30s 38ms/step - loss: 0.6760 - accuracy: 0.5767\n",
            "Epoch 5/10\n",
            "782/782 [==============================] - 30s 39ms/step - loss: 0.6774 - accuracy: 0.5676\n",
            "Epoch 6/10\n",
            "782/782 [==============================] - 31s 39ms/step - loss: 0.6552 - accuracy: 0.6108\n",
            "Epoch 7/10\n",
            "782/782 [==============================] - 30s 39ms/step - loss: 0.6470 - accuracy: 0.6253\n",
            "Epoch 8/10\n",
            "782/782 [==============================] - 30s 38ms/step - loss: 0.6319 - accuracy: 0.6477\n",
            "Epoch 9/10\n",
            "782/782 [==============================] - 30s 38ms/step - loss: 0.6378 - accuracy: 0.6390\n",
            "Epoch 10/10\n",
            "782/782 [==============================] - 30s 38ms/step - loss: 0.6091 - accuracy: 0.6719\n"
          ]
        },
        {
          "output_type": "execute_result",
          "data": {
            "text/plain": [
              "<keras.callbacks.History at 0x7f535792bbd0>"
            ]
          },
          "metadata": {},
          "execution_count": 12
        }
      ]
    },
    {
      "cell_type": "code",
      "metadata": {
        "id": "hCl3jLr52CvD"
      },
      "source": [
        ""
      ],
      "execution_count": null,
      "outputs": []
    },
    {
      "cell_type": "code",
      "metadata": {
        "colab": {
          "base_uri": "https://localhost:8080/"
        },
        "id": "mTdiKrUA2Cx3",
        "outputId": "0493c878-b8da-4750-d743-bf9823d488ae"
      },
      "source": [
        "model.evaluate(test_data)"
      ],
      "execution_count": null,
      "outputs": [
        {
          "output_type": "stream",
          "name": "stdout",
          "text": [
            "782/782 [==============================] - 13s 16ms/step - loss: 0.6366 - accuracy: 0.6529\n"
          ]
        },
        {
          "output_type": "execute_result",
          "data": {
            "text/plain": [
              "[0.6365990042686462, 0.6529200077056885]"
            ]
          },
          "metadata": {},
          "execution_count": 13
        }
      ]
    },
    {
      "cell_type": "code",
      "metadata": {
        "id": "bQuQpJrl2C2S"
      },
      "source": [
        ""
      ],
      "execution_count": null,
      "outputs": []
    },
    {
      "cell_type": "code",
      "metadata": {
        "id": "AZGerREbvzRk"
      },
      "source": [
        "text = \"This movis is bad\""
      ],
      "execution_count": null,
      "outputs": []
    },
    {
      "cell_type": "code",
      "metadata": {
        "colab": {
          "base_uri": "https://localhost:8080/"
        },
        "id": "8ZDVK3Ly3hL5",
        "outputId": "fa735a7b-0030-4b23-a088-4f8623735b31"
      },
      "source": [
        "model.predict([text]) # 0 = Negative review, 1 = positive review"
      ],
      "execution_count": null,
      "outputs": [
        {
          "output_type": "execute_result",
          "data": {
            "text/plain": [
              "array([[0.4494273]], dtype=float32)"
            ]
          },
          "metadata": {},
          "execution_count": 15
        }
      ]
    },
    {
      "cell_type": "code",
      "metadata": {
        "id": "lcm3Hv4c5JAZ"
      },
      "source": [
        "text2 = \"This movis is good\""
      ],
      "execution_count": null,
      "outputs": []
    },
    {
      "cell_type": "code",
      "metadata": {
        "id": "zFUe2iHz5Mym",
        "colab": {
          "base_uri": "https://localhost:8080/"
        },
        "outputId": "086de79d-8fc1-45ea-84d8-b561ab52e14a"
      },
      "source": [
        "model.predict([text2]) # 0 = Negative review, 1 = positive review"
      ],
      "execution_count": null,
      "outputs": [
        {
          "output_type": "execute_result",
          "data": {
            "text/plain": [
              "array([[0.74964345]], dtype=float32)"
            ]
          },
          "metadata": {},
          "execution_count": 17
        }
      ]
    }
  ]
}
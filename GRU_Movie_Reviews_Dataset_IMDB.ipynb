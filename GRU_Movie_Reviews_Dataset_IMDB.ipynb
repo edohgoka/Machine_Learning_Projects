{
  "nbformat": 4,
  "nbformat_minor": 0,
  "metadata": {
    "colab": {
      "name": "GRU_Movie_Reviews_Dataset_IMDB.ipynb",
      "provenance": [],
      "collapsed_sections": []
    },
    "kernelspec": {
      "name": "python3",
      "display_name": "Python 3"
    },
    "language_info": {
      "name": "python"
    }
  },
  "cells": [
    {
      "cell_type": "code",
      "metadata": {
        "colab": {
          "base_uri": "https://localhost:8080/"
        },
        "id": "_Ykr63Hnu96o",
        "outputId": "3763dd1c-7e8f-4d0d-ae3c-7ab72283540c"
      },
      "source": [
        "!wget https://www.dropbox.com/s/pdhwlpi2yeie0ol/movie-reviews-dataset.zip"
      ],
      "execution_count": null,
      "outputs": [
        {
          "output_type": "stream",
          "name": "stdout",
          "text": [
            "--2021-08-31 11:58:48--  https://www.dropbox.com/s/pdhwlpi2yeie0ol/movie-reviews-dataset.zip\n",
            "Resolving www.dropbox.com (www.dropbox.com)... 162.125.5.18, 2620:100:601d:18::a27d:512\n",
            "Connecting to www.dropbox.com (www.dropbox.com)|162.125.5.18|:443... connected.\n",
            "HTTP request sent, awaiting response... 301 Moved Permanently\n",
            "Location: /s/raw/pdhwlpi2yeie0ol/movie-reviews-dataset.zip [following]\n",
            "--2021-08-31 11:58:49--  https://www.dropbox.com/s/raw/pdhwlpi2yeie0ol/movie-reviews-dataset.zip\n",
            "Reusing existing connection to www.dropbox.com:443.\n",
            "HTTP request sent, awaiting response... 302 Found\n",
            "Location: https://uc27d46499a9e2d53dc6573293a4.dl.dropboxusercontent.com/cd/0/inline/BVQcJufiovAiRB2AsL6EplKlyRc2qEI4mYm13ISEGtbHimesjqU1MklpcAlsa_cV0tklOEBz7qGGYWOBq3iBpvUM1NyQWtnZKJ_9OxXgN9QtWirnWPhEWLdXwfn-K1DbzmSfFE_uG7gHul6BtNOLNae7/file# [following]\n",
            "--2021-08-31 11:58:49--  https://uc27d46499a9e2d53dc6573293a4.dl.dropboxusercontent.com/cd/0/inline/BVQcJufiovAiRB2AsL6EplKlyRc2qEI4mYm13ISEGtbHimesjqU1MklpcAlsa_cV0tklOEBz7qGGYWOBq3iBpvUM1NyQWtnZKJ_9OxXgN9QtWirnWPhEWLdXwfn-K1DbzmSfFE_uG7gHul6BtNOLNae7/file\n",
            "Resolving uc27d46499a9e2d53dc6573293a4.dl.dropboxusercontent.com (uc27d46499a9e2d53dc6573293a4.dl.dropboxusercontent.com)... 162.125.2.15, 2620:100:601d:15::a27d:50f\n",
            "Connecting to uc27d46499a9e2d53dc6573293a4.dl.dropboxusercontent.com (uc27d46499a9e2d53dc6573293a4.dl.dropboxusercontent.com)|162.125.2.15|:443... connected.\n",
            "HTTP request sent, awaiting response... 302 Found\n",
            "Location: /cd/0/inline2/BVTtxebbl_FWYU7eY7GyXanL0qfgK9tL3WC11lSYdqwW9Ff3JaEl-bjtxUKmsQX0fBwF7ZrKY4ciJclTc3F7g_iQswSt9rpXWPsdjFjynUyRLxWc9YD-FJg6DWWn6xD5rerhbkL2_nfpcCub79GXyceefYaEM6VNLd2TJAGcl4VlI6Co5F-x4NQfehZCKK1itLKENbi1ZSD1kQP7ZViqEpMjFuIfTZCYK9E1ibJQod4_VCiUiHiWSuFVG9YEYgPVozWMk1agnVPCS6VP0M82B44gExIxcsILNBXeWK7ZVMTTgBg5n2437KxMyZAkR0mrQKubSwXkpvIJL34PwhcVa2dbtmPH1SIV-rXoHrFDxOBTnkluqlw8W2acGKYh_7Ntj-M/file [following]\n",
            "--2021-08-31 11:58:49--  https://uc27d46499a9e2d53dc6573293a4.dl.dropboxusercontent.com/cd/0/inline2/BVTtxebbl_FWYU7eY7GyXanL0qfgK9tL3WC11lSYdqwW9Ff3JaEl-bjtxUKmsQX0fBwF7ZrKY4ciJclTc3F7g_iQswSt9rpXWPsdjFjynUyRLxWc9YD-FJg6DWWn6xD5rerhbkL2_nfpcCub79GXyceefYaEM6VNLd2TJAGcl4VlI6Co5F-x4NQfehZCKK1itLKENbi1ZSD1kQP7ZViqEpMjFuIfTZCYK9E1ibJQod4_VCiUiHiWSuFVG9YEYgPVozWMk1agnVPCS6VP0M82B44gExIxcsILNBXeWK7ZVMTTgBg5n2437KxMyZAkR0mrQKubSwXkpvIJL34PwhcVa2dbtmPH1SIV-rXoHrFDxOBTnkluqlw8W2acGKYh_7Ntj-M/file\n",
            "Reusing existing connection to uc27d46499a9e2d53dc6573293a4.dl.dropboxusercontent.com:443.\n",
            "HTTP request sent, awaiting response... 200 OK\n",
            "Length: 62951389 (60M) [application/zip]\n",
            "Saving to: ‘movie-reviews-dataset.zip’\n",
            "\n",
            "movie-reviews-datas 100%[===================>]  60.03M  31.3MB/s    in 1.9s    \n",
            "\n",
            "2021-08-31 11:58:51 (31.3 MB/s) - ‘movie-reviews-dataset.zip’ saved [62951389/62951389]\n",
            "\n"
          ]
        }
      ]
    },
    {
      "cell_type": "code",
      "metadata": {
        "id": "SCCmDkApvzHJ"
      },
      "source": [
        "# Let's unzip the file\n",
        "!unzip -q \"/content/movie-reviews-dataset.zip\""
      ],
      "execution_count": null,
      "outputs": []
    },
    {
      "cell_type": "code",
      "metadata": {
        "id": "sZkcjoQXvzKh"
      },
      "source": [
        "from tensorflow.keras.preprocessing import  text_dataset_from_directory\n",
        "from tensorflow.strings import regex_replace\n",
        "from tensorflow.keras.layers.experimental.preprocessing import TextVectorization\n",
        "from tensorflow.keras.models import Sequential\n",
        "from tensorflow.keras import Input\n",
        "from tensorflow.keras.layers import Dense, GRU, Embedding, Dropout"
      ],
      "execution_count": null,
      "outputs": []
    },
    {
      "cell_type": "code",
      "metadata": {
        "id": "7dfX0O2JvzOg"
      },
      "source": [
        "def prepareData(dir):\n",
        "  data = text_dataset_from_directory(dir)\n",
        "  return data.map(\n",
        "      lambda text, label: (regex_replace(text, \"<br />\", \" \"), label),\n",
        "  )"
      ],
      "execution_count": null,
      "outputs": []
    },
    {
      "cell_type": "code",
      "metadata": {
        "colab": {
          "base_uri": "https://localhost:8080/"
        },
        "id": "zOAIlkf_xPuP",
        "outputId": "e4aaf942-46c3-44bf-bd04-44a1224b1b11"
      },
      "source": [
        "train_data = prepareData(\"/content/movie-reviews-dataset/train\")\n",
        "test_data = prepareData(\"/content/movie-reviews-dataset/test\")\n",
        "\n",
        "for text_batch, label_batch in train_data.take(1):\n",
        "  print(text_batch.numpy()[0])\n",
        "  print(label_batch.numpy()[0])"
      ],
      "execution_count": null,
      "outputs": [
        {
          "output_type": "stream",
          "name": "stdout",
          "text": [
            "Found 25000 files belonging to 2 classes.\n",
            "Found 25000 files belonging to 2 classes.\n",
            "b'Amongst the standard one liner type action films, where acting and logic are checked at the door, this movie is at the top of the class. If the person in charge of casting were to have put \"good\" actors in this flick, it would have been worse(excepting Richard Dawson who actually did act well, if you can call playing yourself \"acting\"). I love this movie! The Running Man is in all likelihood God\\'s gift to man(okay maybe just men). Definitely the most quotable movie of our time so I\\'ll part you with my favorite line: \"It\\'s all part of life\\'s rich pattern Brenda, and you better F*****g get used to it.\" Ahh, more people have been called \"Brenda\" for the sake of quoting this film than I can possibly imagine.'\n",
            "1\n"
          ]
        }
      ]
    },
    {
      "cell_type": "code",
      "metadata": {
        "id": "RxNKI_8ixPxg"
      },
      "source": [
        "model =Sequential()"
      ],
      "execution_count": null,
      "outputs": []
    },
    {
      "cell_type": "code",
      "metadata": {
        "id": "nsN3_WajxP1L"
      },
      "source": [
        "model.add(Input(shape=(1,), dtype=\"string\"))"
      ],
      "execution_count": null,
      "outputs": []
    },
    {
      "cell_type": "code",
      "metadata": {
        "id": "atMG_L0vxP4I"
      },
      "source": [
        "max_tokens= 1000\n",
        "max_len = 100\n",
        "vectorize_layer = TextVectorization(\n",
        "    max_tokens = max_tokens,\n",
        "    output_mode = 'int',\n",
        "    output_sequence_length = max_len,\n",
        ")"
      ],
      "execution_count": null,
      "outputs": []
    },
    {
      "cell_type": "code",
      "metadata": {
        "id": "G0F6cuKOxP7N"
      },
      "source": [
        ""
      ],
      "execution_count": null,
      "outputs": []
    },
    {
      "cell_type": "code",
      "metadata": {
        "id": "S-NIybDoxP9z"
      },
      "source": [
        "train_texts = train_data.map(lambda text, label: text)\n",
        "vectorize_layer.adapt(train_texts)\n",
        "\n",
        "model.add(vectorize_layer)"
      ],
      "execution_count": null,
      "outputs": []
    },
    {
      "cell_type": "code",
      "metadata": {
        "id": "Wc1xWHx52Cm0"
      },
      "source": [
        "model.add(Embedding(max_tokens + 1, 128))\n",
        "\n",
        "model.add(GRU(64))\n",
        "model.add(Dense(64, activation='relu'))\n",
        "model.add(Dense(1, activation='sigmoid'))"
      ],
      "execution_count": null,
      "outputs": []
    },
    {
      "cell_type": "code",
      "metadata": {
        "id": "QzJWzjvq2DQc"
      },
      "source": [
        "model.compile(loss=\"binary_crossentropy\", optimizer=\"adam\", metrics=[\"accuracy\"])"
      ],
      "execution_count": null,
      "outputs": []
    },
    {
      "cell_type": "code",
      "metadata": {
        "colab": {
          "base_uri": "https://localhost:8080/"
        },
        "id": "p3IxCxEW2Crr",
        "outputId": "2ff23676-8201-4d4a-e2e6-39fbcac12513"
      },
      "source": [
        "model.fit(train_data, epochs=10)"
      ],
      "execution_count": null,
      "outputs": [
        {
          "output_type": "stream",
          "name": "stdout",
          "text": [
            "Epoch 1/10\n",
            "782/782 [==============================] - 61s 75ms/step - loss: 0.5422 - accuracy: 0.7136\n",
            "Epoch 2/10\n",
            "782/782 [==============================] - 60s 77ms/step - loss: 0.4204 - accuracy: 0.8065\n",
            "Epoch 3/10\n",
            "782/782 [==============================] - 60s 76ms/step - loss: 0.3862 - accuracy: 0.8228\n",
            "Epoch 4/10\n",
            "782/782 [==============================] - 60s 76ms/step - loss: 0.3678 - accuracy: 0.8316\n",
            "Epoch 5/10\n",
            "782/782 [==============================] - 59s 75ms/step - loss: 0.3476 - accuracy: 0.8394\n",
            "Epoch 6/10\n",
            "782/782 [==============================] - 59s 75ms/step - loss: 0.3295 - accuracy: 0.8480\n",
            "Epoch 7/10\n",
            "782/782 [==============================] - 58s 75ms/step - loss: 0.3115 - accuracy: 0.8573\n",
            "Epoch 8/10\n",
            "782/782 [==============================] - 58s 75ms/step - loss: 0.2916 - accuracy: 0.8665\n",
            "Epoch 9/10\n",
            "782/782 [==============================] - 60s 77ms/step - loss: 0.2743 - accuracy: 0.8735\n",
            "Epoch 10/10\n",
            "782/782 [==============================] - 100s 128ms/step - loss: 0.2505 - accuracy: 0.8841\n"
          ]
        },
        {
          "output_type": "execute_result",
          "data": {
            "text/plain": [
              "<keras.callbacks.History at 0x7f49ea951110>"
            ]
          },
          "metadata": {},
          "execution_count": 12
        }
      ]
    },
    {
      "cell_type": "code",
      "metadata": {
        "id": "hCl3jLr52CvD"
      },
      "source": [
        ""
      ],
      "execution_count": null,
      "outputs": []
    },
    {
      "cell_type": "code",
      "metadata": {
        "colab": {
          "base_uri": "https://localhost:8080/"
        },
        "id": "mTdiKrUA2Cx3",
        "outputId": "fd380a08-34c8-4cb2-f19f-36b2ce389d95"
      },
      "source": [
        "model.evaluate(test_data)"
      ],
      "execution_count": null,
      "outputs": [
        {
          "output_type": "stream",
          "name": "stdout",
          "text": [
            "782/782 [==============================] - 32s 40ms/step - loss: 0.6414 - accuracy: 0.7632\n"
          ]
        },
        {
          "output_type": "execute_result",
          "data": {
            "text/plain": [
              "[0.6413635015487671, 0.7632399797439575]"
            ]
          },
          "metadata": {},
          "execution_count": 13
        }
      ]
    },
    {
      "cell_type": "code",
      "metadata": {
        "id": "bQuQpJrl2C2S"
      },
      "source": [
        ""
      ],
      "execution_count": null,
      "outputs": []
    },
    {
      "cell_type": "code",
      "metadata": {
        "id": "AZGerREbvzRk"
      },
      "source": [
        "text = \"This movis is bad\""
      ],
      "execution_count": null,
      "outputs": []
    },
    {
      "cell_type": "code",
      "metadata": {
        "colab": {
          "base_uri": "https://localhost:8080/"
        },
        "id": "8ZDVK3Ly3hL5",
        "outputId": "23863130-b536-4c12-b6a8-d4879ac0fb66"
      },
      "source": [
        "model.predict([text]) # 0 = Negative review, 1 = positive review"
      ],
      "execution_count": null,
      "outputs": [
        {
          "output_type": "execute_result",
          "data": {
            "text/plain": [
              "array([[0.03322583]], dtype=float32)"
            ]
          },
          "metadata": {},
          "execution_count": 15
        }
      ]
    },
    {
      "cell_type": "code",
      "metadata": {
        "id": "lcm3Hv4c5JAZ"
      },
      "source": [
        "text2 = \"This movis is good\""
      ],
      "execution_count": null,
      "outputs": []
    },
    {
      "cell_type": "code",
      "metadata": {
        "colab": {
          "base_uri": "https://localhost:8080/"
        },
        "id": "zFUe2iHz5Mym",
        "outputId": "ea2c0ccb-c2cf-4a27-ee4a-f82421bede17"
      },
      "source": [
        "model.predict([text2]) # 0 = Negative review, 1 = positive review"
      ],
      "execution_count": null,
      "outputs": [
        {
          "output_type": "execute_result",
          "data": {
            "text/plain": [
              "array([[0.96662104]], dtype=float32)"
            ]
          },
          "metadata": {},
          "execution_count": 17
        }
      ]
    },
    {
      "cell_type": "markdown",
      "metadata": {
        "id": "G29b9mhrI1Rw"
      },
      "source": [
        "LSTM and GRU networks are performing better on the dataset that than the RNN. "
      ]
    }
  ]
}
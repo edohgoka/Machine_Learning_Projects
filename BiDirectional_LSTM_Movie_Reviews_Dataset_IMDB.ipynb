{
  "nbformat": 4,
  "nbformat_minor": 0,
  "metadata": {
    "colab": {
      "name": "BiDirectional_LSTM_Movie_Reviews_Dataset_IMDB.ipynb",
      "provenance": [],
      "collapsed_sections": []
    },
    "kernelspec": {
      "name": "python3",
      "display_name": "Python 3"
    },
    "language_info": {
      "name": "python"
    }
  },
  "cells": [
    {
      "cell_type": "code",
      "metadata": {
        "colab": {
          "base_uri": "https://localhost:8080/"
        },
        "id": "_Ykr63Hnu96o",
        "outputId": "7676694e-78e8-4d23-c00f-5c57405a75de"
      },
      "source": [
        "!wget https://www.dropbox.com/s/pdhwlpi2yeie0ol/movie-reviews-dataset.zip"
      ],
      "execution_count": null,
      "outputs": [
        {
          "output_type": "stream",
          "name": "stdout",
          "text": [
            "--2021-08-31 12:21:28--  https://www.dropbox.com/s/pdhwlpi2yeie0ol/movie-reviews-dataset.zip\n",
            "Resolving www.dropbox.com (www.dropbox.com)... 162.125.5.18, 2620:100:601d:18::a27d:512\n",
            "Connecting to www.dropbox.com (www.dropbox.com)|162.125.5.18|:443... connected.\n",
            "HTTP request sent, awaiting response... 301 Moved Permanently\n",
            "Location: /s/raw/pdhwlpi2yeie0ol/movie-reviews-dataset.zip [following]\n",
            "--2021-08-31 12:21:28--  https://www.dropbox.com/s/raw/pdhwlpi2yeie0ol/movie-reviews-dataset.zip\n",
            "Reusing existing connection to www.dropbox.com:443.\n",
            "HTTP request sent, awaiting response... 302 Found\n",
            "Location: https://uc8539d59ae6b57fcfb0e8901733.dl.dropboxusercontent.com/cd/0/inline/BVQ2NHOllwh9UtbX0Al86kx5fP9gdPHFLQyrb5OkAaAMArQsa1hC8-oC2iksRvWXbDTJY0up-4_mIJHMyvC-vJSIJAsfEU4bphPL2fcOHmOerzQWxC6yUlNbEOi5RNZ9x2yiy8phg1i7I1sY-nSpNfYJ/file# [following]\n",
            "--2021-08-31 12:21:28--  https://uc8539d59ae6b57fcfb0e8901733.dl.dropboxusercontent.com/cd/0/inline/BVQ2NHOllwh9UtbX0Al86kx5fP9gdPHFLQyrb5OkAaAMArQsa1hC8-oC2iksRvWXbDTJY0up-4_mIJHMyvC-vJSIJAsfEU4bphPL2fcOHmOerzQWxC6yUlNbEOi5RNZ9x2yiy8phg1i7I1sY-nSpNfYJ/file\n",
            "Resolving uc8539d59ae6b57fcfb0e8901733.dl.dropboxusercontent.com (uc8539d59ae6b57fcfb0e8901733.dl.dropboxusercontent.com)... 162.125.5.15, 2620:100:601d:15::a27d:50f\n",
            "Connecting to uc8539d59ae6b57fcfb0e8901733.dl.dropboxusercontent.com (uc8539d59ae6b57fcfb0e8901733.dl.dropboxusercontent.com)|162.125.5.15|:443... connected.\n",
            "HTTP request sent, awaiting response... 302 Found\n",
            "Location: /cd/0/inline2/BVTEUklaMRt9z0VGhvK4oenGdrtj23LI8f9sW74sQZ8WQudvOAP36Wzwam3XWWwZbgkF3tv77RFE-o-_IUXMt6ap90mMcGrqUDQtNQURd2uL2Q6ddIMrBYyxw4vYOMPExuUM5g7f_x-_M6AgaSBapOpiLYVMZNLindkop46ijtWgiizTv4WzBcDR5NsqsEz5Y99G30X42HYPprWDHCvJqyx2xV_CZabJCtgG0eZuJx7wDSO16-Zo_8dhY3kuHK1d5cRjxU-8JFzu2h-mwRDyRBuDGs1j7bvpdTJfYHt8zn3k9mNs5le08l4kWmWONTWAJA3i23f8FPy6fs_w-OxgQMAhpq04BRVbJdvJ9tf0KSo3Rl-C8IR-vTKqf1ZB3cHTwc0/file [following]\n",
            "--2021-08-31 12:21:28--  https://uc8539d59ae6b57fcfb0e8901733.dl.dropboxusercontent.com/cd/0/inline2/BVTEUklaMRt9z0VGhvK4oenGdrtj23LI8f9sW74sQZ8WQudvOAP36Wzwam3XWWwZbgkF3tv77RFE-o-_IUXMt6ap90mMcGrqUDQtNQURd2uL2Q6ddIMrBYyxw4vYOMPExuUM5g7f_x-_M6AgaSBapOpiLYVMZNLindkop46ijtWgiizTv4WzBcDR5NsqsEz5Y99G30X42HYPprWDHCvJqyx2xV_CZabJCtgG0eZuJx7wDSO16-Zo_8dhY3kuHK1d5cRjxU-8JFzu2h-mwRDyRBuDGs1j7bvpdTJfYHt8zn3k9mNs5le08l4kWmWONTWAJA3i23f8FPy6fs_w-OxgQMAhpq04BRVbJdvJ9tf0KSo3Rl-C8IR-vTKqf1ZB3cHTwc0/file\n",
            "Reusing existing connection to uc8539d59ae6b57fcfb0e8901733.dl.dropboxusercontent.com:443.\n",
            "HTTP request sent, awaiting response... 200 OK\n",
            "Length: 62951389 (60M) [application/zip]\n",
            "Saving to: ‘movie-reviews-dataset.zip’\n",
            "\n",
            "movie-reviews-datas 100%[===================>]  60.03M  51.1MB/s    in 1.2s    \n",
            "\n",
            "2021-08-31 12:21:30 (51.1 MB/s) - ‘movie-reviews-dataset.zip’ saved [62951389/62951389]\n",
            "\n"
          ]
        }
      ]
    },
    {
      "cell_type": "code",
      "metadata": {
        "id": "SCCmDkApvzHJ"
      },
      "source": [
        "# Let's unzip the file\n",
        "!unzip -q \"/content/movie-reviews-dataset.zip\""
      ],
      "execution_count": null,
      "outputs": []
    },
    {
      "cell_type": "code",
      "metadata": {
        "id": "sZkcjoQXvzKh"
      },
      "source": [
        "from tensorflow.keras.preprocessing import  text_dataset_from_directory\n",
        "from tensorflow.strings import regex_replace\n",
        "from tensorflow.keras.layers.experimental.preprocessing import TextVectorization\n",
        "from tensorflow.keras.models import Sequential\n",
        "from tensorflow.keras import Input\n",
        "from tensorflow.keras.layers import Dense, LSTM, Embedding, Dropout, Bidirectional"
      ],
      "execution_count": null,
      "outputs": []
    },
    {
      "cell_type": "code",
      "metadata": {
        "id": "7dfX0O2JvzOg"
      },
      "source": [
        "def prepareData(dir):\n",
        "  data = text_dataset_from_directory(dir)\n",
        "  return data.map(\n",
        "      lambda text, label: (regex_replace(text, \"<br />\", \" \"), label),\n",
        "  )"
      ],
      "execution_count": null,
      "outputs": []
    },
    {
      "cell_type": "code",
      "metadata": {
        "colab": {
          "base_uri": "https://localhost:8080/"
        },
        "id": "zOAIlkf_xPuP",
        "outputId": "5c0c2638-6e54-42ac-d2be-f3aa2a1b7086"
      },
      "source": [
        "train_data = prepareData(\"/content/movie-reviews-dataset/train\")\n",
        "test_data = prepareData(\"/content/movie-reviews-dataset/test\")\n",
        "\n",
        "for text_batch, label_batch in train_data.take(1):\n",
        "  print(text_batch.numpy()[0])\n",
        "  print(label_batch.numpy()[0])"
      ],
      "execution_count": null,
      "outputs": [
        {
          "output_type": "stream",
          "name": "stdout",
          "text": [
            "Found 25000 files belonging to 2 classes.\n",
            "Found 25000 files belonging to 2 classes.\n",
            "b'*spoliers* do not read any further if you haven\\'t seen this movie  Picking up after the depressing \"Phantasm II\" ended; The Tall Man kidnaps Mike, while Reggie and new kid Tim spend most of the rest of the movie trying to get him back, and not end up as slaves on the Tall Man\\'s \"Red Planet\". This one gets really silly: the trio of thieves in the bright pink hearse were only there for comic relief, and the black karate chick (can\\'t remember her name) was so irritating I couldn\\'t wait to see if the Tall Man killed her character. This one sets it up to almost look like it was going to be Tim\\'s character, who comes in late and ultimately is the hero, but ... it doesn\\'t quite work out that way. By the very end of this story Liz is beheaded by the killer midgets, Mike gets a silver sphere implanted into his skull, the spheres get Reggie and the dwarfs get Tim, and there\\'s no one left to stop The Tall Man. The bad guy wins - now how\\'s that for a surprise twist at the end?  This was filmed in 1993 and unreleased until \\'95, and the ending of this one was at the time final, and although it\\'s disappointing and anticlimactic it was also a fitting and appropriate ending for this weird little series. But the fourth one changes this ending and adds nothing new but more bad jokes, and an even worse and more nonsensical ending ...  *1/2 out of ****'\n",
            "0\n"
          ]
        }
      ]
    },
    {
      "cell_type": "code",
      "metadata": {
        "id": "RxNKI_8ixPxg"
      },
      "source": [
        "model =Sequential()"
      ],
      "execution_count": null,
      "outputs": []
    },
    {
      "cell_type": "code",
      "metadata": {
        "id": "nsN3_WajxP1L"
      },
      "source": [
        "model.add(Input(shape=(1,), dtype=\"string\"))"
      ],
      "execution_count": null,
      "outputs": []
    },
    {
      "cell_type": "code",
      "metadata": {
        "id": "atMG_L0vxP4I"
      },
      "source": [
        "max_tokens= 1000\n",
        "max_len = 100\n",
        "vectorize_layer = TextVectorization(\n",
        "    max_tokens = max_tokens,\n",
        "    output_mode = 'int',\n",
        "    output_sequence_length = max_len,\n",
        ")"
      ],
      "execution_count": null,
      "outputs": []
    },
    {
      "cell_type": "code",
      "metadata": {
        "id": "G0F6cuKOxP7N"
      },
      "source": [
        ""
      ],
      "execution_count": null,
      "outputs": []
    },
    {
      "cell_type": "code",
      "metadata": {
        "id": "S-NIybDoxP9z"
      },
      "source": [
        "train_texts = train_data.map(lambda text, label: text)\n",
        "vectorize_layer.adapt(train_texts)\n",
        "\n",
        "model.add(vectorize_layer)"
      ],
      "execution_count": null,
      "outputs": []
    },
    {
      "cell_type": "code",
      "metadata": {
        "id": "Wc1xWHx52Cm0"
      },
      "source": [
        "model.add(Embedding(max_tokens + 1, 128))\n",
        "\n",
        "model.add(Bidirectional(LSTM(64)))\n",
        "model.add(Dense(64, activation='relu'))\n",
        "model.add(Dense(1, activation='sigmoid'))"
      ],
      "execution_count": null,
      "outputs": []
    },
    {
      "cell_type": "code",
      "metadata": {
        "id": "QzJWzjvq2DQc"
      },
      "source": [
        "model.compile(loss=\"binary_crossentropy\", optimizer=\"adam\", metrics=[\"accuracy\"])"
      ],
      "execution_count": null,
      "outputs": []
    },
    {
      "cell_type": "code",
      "metadata": {
        "colab": {
          "base_uri": "https://localhost:8080/"
        },
        "id": "p3IxCxEW2Crr",
        "outputId": "c6adee26-e34d-467c-a124-e0492aece2f2"
      },
      "source": [
        "model.fit(train_data, epochs=10)"
      ],
      "execution_count": null,
      "outputs": [
        {
          "output_type": "stream",
          "name": "stdout",
          "text": [
            "Epoch 1/10\n",
            "782/782 [==============================] - 114s 140ms/step - loss: 0.5085 - accuracy: 0.7428\n",
            "Epoch 2/10\n",
            "782/782 [==============================] - 112s 143ms/step - loss: 0.4249 - accuracy: 0.8041\n",
            "Epoch 3/10\n",
            "782/782 [==============================] - 107s 136ms/step - loss: 0.3929 - accuracy: 0.8194\n",
            "Epoch 4/10\n",
            "782/782 [==============================] - 107s 136ms/step - loss: 0.3642 - accuracy: 0.8356\n",
            "Epoch 5/10\n",
            "782/782 [==============================] - 107s 136ms/step - loss: 0.3338 - accuracy: 0.8508\n",
            "Epoch 6/10\n",
            "782/782 [==============================] - 107s 136ms/step - loss: 0.3051 - accuracy: 0.8644\n",
            "Epoch 7/10\n",
            "782/782 [==============================] - 107s 137ms/step - loss: 0.2799 - accuracy: 0.8754\n",
            "Epoch 8/10\n",
            "782/782 [==============================] - 107s 137ms/step - loss: 0.2598 - accuracy: 0.8843\n",
            "Epoch 9/10\n",
            "782/782 [==============================] - 107s 137ms/step - loss: 0.2348 - accuracy: 0.8955\n",
            "Epoch 10/10\n",
            "782/782 [==============================] - 107s 136ms/step - loss: 0.2113 - accuracy: 0.9077\n"
          ]
        },
        {
          "output_type": "execute_result",
          "data": {
            "text/plain": [
              "<keras.callbacks.History at 0x7f6d1770b290>"
            ]
          },
          "metadata": {},
          "execution_count": 12
        }
      ]
    },
    {
      "cell_type": "code",
      "metadata": {
        "id": "hCl3jLr52CvD"
      },
      "source": [
        ""
      ],
      "execution_count": null,
      "outputs": []
    },
    {
      "cell_type": "code",
      "metadata": {
        "colab": {
          "base_uri": "https://localhost:8080/"
        },
        "id": "mTdiKrUA2Cx3",
        "outputId": "ae92bfa1-191c-4fa5-c590-1ebde2e37e86"
      },
      "source": [
        "model.evaluate(test_data)"
      ],
      "execution_count": null,
      "outputs": [
        {
          "output_type": "stream",
          "name": "stdout",
          "text": [
            "782/782 [==============================] - 32s 40ms/step - loss: 0.8023 - accuracy: 0.7592\n"
          ]
        },
        {
          "output_type": "execute_result",
          "data": {
            "text/plain": [
              "[0.8023123145103455, 0.7591999769210815]"
            ]
          },
          "metadata": {},
          "execution_count": 13
        }
      ]
    },
    {
      "cell_type": "code",
      "metadata": {
        "id": "bQuQpJrl2C2S"
      },
      "source": [
        ""
      ],
      "execution_count": null,
      "outputs": []
    },
    {
      "cell_type": "code",
      "metadata": {
        "id": "AZGerREbvzRk"
      },
      "source": [
        "text = \"This movis is bad\""
      ],
      "execution_count": null,
      "outputs": []
    },
    {
      "cell_type": "code",
      "metadata": {
        "colab": {
          "base_uri": "https://localhost:8080/"
        },
        "id": "8ZDVK3Ly3hL5",
        "outputId": "e2594593-03e0-4fa5-9e00-70833e7fb813"
      },
      "source": [
        "model.predict([text]) # 0 = Negative review, 1 = positive review"
      ],
      "execution_count": null,
      "outputs": [
        {
          "output_type": "execute_result",
          "data": {
            "text/plain": [
              "array([[0.05701149]], dtype=float32)"
            ]
          },
          "metadata": {},
          "execution_count": 15
        }
      ]
    },
    {
      "cell_type": "code",
      "metadata": {
        "id": "lcm3Hv4c5JAZ"
      },
      "source": [
        "text2 = \"This movis is good\""
      ],
      "execution_count": null,
      "outputs": []
    },
    {
      "cell_type": "code",
      "metadata": {
        "colab": {
          "base_uri": "https://localhost:8080/"
        },
        "id": "zFUe2iHz5Mym",
        "outputId": "a6f99e12-7fa3-4b3c-ecc8-257899cd7c09"
      },
      "source": [
        "model.predict([text2]) # 0 = Negative review, 1 = positive review"
      ],
      "execution_count": null,
      "outputs": [
        {
          "output_type": "execute_result",
          "data": {
            "text/plain": [
              "array([[0.9085814]], dtype=float32)"
            ]
          },
          "metadata": {},
          "execution_count": 17
        }
      ]
    }
  ]
}
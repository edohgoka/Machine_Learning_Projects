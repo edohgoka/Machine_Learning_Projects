{
  "nbformat": 4,
  "nbformat_minor": 0,
  "metadata": {
    "colab": {
      "name": "Neural_Network_Churn_Modeling.ipynb",
      "provenance": [],
      "collapsed_sections": []
    },
    "kernelspec": {
      "name": "python3",
      "display_name": "Python 3"
    },
    "language_info": {
      "name": "python"
    }
  },
  "cells": [
    {
      "cell_type": "code",
      "metadata": {
        "id": "G9s39Fs-n5wb"
      },
      "source": [
        "import pandas as pd\n",
        "import numpy as np \n",
        "import matplotlib.pyplot as plt\n",
        "import tensorflow as tf\n",
        "from sklearn.preprocessing import LabelEncoder\n",
        "from sklearn.model_selection import train_test_split"
      ],
      "execution_count": 1,
      "outputs": []
    },
    {
      "cell_type": "code",
      "metadata": {
        "id": "W-78_wjTpzIB"
      },
      "source": [
        "data = pd.read_csv(\"/content/Churn_Modelling.csv\")"
      ],
      "execution_count": 2,
      "outputs": []
    },
    {
      "cell_type": "code",
      "metadata": {
        "colab": {
          "base_uri": "https://localhost:8080/",
          "height": 223
        },
        "id": "vBTH498BpzLR",
        "outputId": "773657ee-ff5a-4b18-e585-8255231f8f92"
      },
      "source": [
        "data.head()"
      ],
      "execution_count": 3,
      "outputs": [
        {
          "output_type": "execute_result",
          "data": {
            "text/html": [
              "<div>\n",
              "<style scoped>\n",
              "    .dataframe tbody tr th:only-of-type {\n",
              "        vertical-align: middle;\n",
              "    }\n",
              "\n",
              "    .dataframe tbody tr th {\n",
              "        vertical-align: top;\n",
              "    }\n",
              "\n",
              "    .dataframe thead th {\n",
              "        text-align: right;\n",
              "    }\n",
              "</style>\n",
              "<table border=\"1\" class=\"dataframe\">\n",
              "  <thead>\n",
              "    <tr style=\"text-align: right;\">\n",
              "      <th></th>\n",
              "      <th>RowNumber</th>\n",
              "      <th>CustomerId</th>\n",
              "      <th>Surname</th>\n",
              "      <th>CreditScore</th>\n",
              "      <th>Geography</th>\n",
              "      <th>Gender</th>\n",
              "      <th>Age</th>\n",
              "      <th>Tenure</th>\n",
              "      <th>Balance</th>\n",
              "      <th>NumOfProducts</th>\n",
              "      <th>HasCrCard</th>\n",
              "      <th>IsActiveMember</th>\n",
              "      <th>EstimatedSalary</th>\n",
              "      <th>Exited</th>\n",
              "    </tr>\n",
              "  </thead>\n",
              "  <tbody>\n",
              "    <tr>\n",
              "      <th>0</th>\n",
              "      <td>1</td>\n",
              "      <td>15634602</td>\n",
              "      <td>Hargrave</td>\n",
              "      <td>619</td>\n",
              "      <td>France</td>\n",
              "      <td>Female</td>\n",
              "      <td>42</td>\n",
              "      <td>2</td>\n",
              "      <td>0.00</td>\n",
              "      <td>1</td>\n",
              "      <td>1</td>\n",
              "      <td>1</td>\n",
              "      <td>101348.88</td>\n",
              "      <td>1</td>\n",
              "    </tr>\n",
              "    <tr>\n",
              "      <th>1</th>\n",
              "      <td>2</td>\n",
              "      <td>15647311</td>\n",
              "      <td>Hill</td>\n",
              "      <td>608</td>\n",
              "      <td>Spain</td>\n",
              "      <td>Female</td>\n",
              "      <td>41</td>\n",
              "      <td>1</td>\n",
              "      <td>83807.86</td>\n",
              "      <td>1</td>\n",
              "      <td>0</td>\n",
              "      <td>1</td>\n",
              "      <td>112542.58</td>\n",
              "      <td>0</td>\n",
              "    </tr>\n",
              "    <tr>\n",
              "      <th>2</th>\n",
              "      <td>3</td>\n",
              "      <td>15619304</td>\n",
              "      <td>Onio</td>\n",
              "      <td>502</td>\n",
              "      <td>France</td>\n",
              "      <td>Female</td>\n",
              "      <td>42</td>\n",
              "      <td>8</td>\n",
              "      <td>159660.80</td>\n",
              "      <td>3</td>\n",
              "      <td>1</td>\n",
              "      <td>0</td>\n",
              "      <td>113931.57</td>\n",
              "      <td>1</td>\n",
              "    </tr>\n",
              "    <tr>\n",
              "      <th>3</th>\n",
              "      <td>4</td>\n",
              "      <td>15701354</td>\n",
              "      <td>Boni</td>\n",
              "      <td>699</td>\n",
              "      <td>France</td>\n",
              "      <td>Female</td>\n",
              "      <td>39</td>\n",
              "      <td>1</td>\n",
              "      <td>0.00</td>\n",
              "      <td>2</td>\n",
              "      <td>0</td>\n",
              "      <td>0</td>\n",
              "      <td>93826.63</td>\n",
              "      <td>0</td>\n",
              "    </tr>\n",
              "    <tr>\n",
              "      <th>4</th>\n",
              "      <td>5</td>\n",
              "      <td>15737888</td>\n",
              "      <td>Mitchell</td>\n",
              "      <td>850</td>\n",
              "      <td>Spain</td>\n",
              "      <td>Female</td>\n",
              "      <td>43</td>\n",
              "      <td>2</td>\n",
              "      <td>125510.82</td>\n",
              "      <td>1</td>\n",
              "      <td>1</td>\n",
              "      <td>1</td>\n",
              "      <td>79084.10</td>\n",
              "      <td>0</td>\n",
              "    </tr>\n",
              "  </tbody>\n",
              "</table>\n",
              "</div>"
            ],
            "text/plain": [
              "   RowNumber  CustomerId   Surname  ...  IsActiveMember EstimatedSalary Exited\n",
              "0          1    15634602  Hargrave  ...               1       101348.88      1\n",
              "1          2    15647311      Hill  ...               1       112542.58      0\n",
              "2          3    15619304      Onio  ...               0       113931.57      1\n",
              "3          4    15701354      Boni  ...               0        93826.63      0\n",
              "4          5    15737888  Mitchell  ...               1        79084.10      0\n",
              "\n",
              "[5 rows x 14 columns]"
            ]
          },
          "metadata": {},
          "execution_count": 3
        }
      ]
    },
    {
      "cell_type": "code",
      "metadata": {
        "colab": {
          "base_uri": "https://localhost:8080/"
        },
        "id": "cTg3b429qtgi",
        "outputId": "72136f21-667b-4938-bd3d-9927a86261d5"
      },
      "source": [
        "data.columns"
      ],
      "execution_count": 4,
      "outputs": [
        {
          "output_type": "execute_result",
          "data": {
            "text/plain": [
              "Index(['RowNumber', 'CustomerId', 'Surname', 'CreditScore', 'Geography',\n",
              "       'Gender', 'Age', 'Tenure', 'Balance', 'NumOfProducts', 'HasCrCard',\n",
              "       'IsActiveMember', 'EstimatedSalary', 'Exited'],\n",
              "      dtype='object')"
            ]
          },
          "metadata": {},
          "execution_count": 4
        }
      ]
    },
    {
      "cell_type": "code",
      "metadata": {
        "colab": {
          "base_uri": "https://localhost:8080/"
        },
        "id": "mRroL_9mqti4",
        "outputId": "9cf2e72a-1985-4d29-9e26-18bd56099266"
      },
      "source": [
        "data.info()"
      ],
      "execution_count": 5,
      "outputs": [
        {
          "output_type": "stream",
          "text": [
            "<class 'pandas.core.frame.DataFrame'>\n",
            "RangeIndex: 10000 entries, 0 to 9999\n",
            "Data columns (total 14 columns):\n",
            " #   Column           Non-Null Count  Dtype  \n",
            "---  ------           --------------  -----  \n",
            " 0   RowNumber        10000 non-null  int64  \n",
            " 1   CustomerId       10000 non-null  int64  \n",
            " 2   Surname          10000 non-null  object \n",
            " 3   CreditScore      10000 non-null  int64  \n",
            " 4   Geography        10000 non-null  object \n",
            " 5   Gender           10000 non-null  object \n",
            " 6   Age              10000 non-null  int64  \n",
            " 7   Tenure           10000 non-null  int64  \n",
            " 8   Balance          10000 non-null  float64\n",
            " 9   NumOfProducts    10000 non-null  int64  \n",
            " 10  HasCrCard        10000 non-null  int64  \n",
            " 11  IsActiveMember   10000 non-null  int64  \n",
            " 12  EstimatedSalary  10000 non-null  float64\n",
            " 13  Exited           10000 non-null  int64  \n",
            "dtypes: float64(2), int64(9), object(3)\n",
            "memory usage: 1.1+ MB\n"
          ],
          "name": "stdout"
        }
      ]
    },
    {
      "cell_type": "code",
      "metadata": {
        "colab": {
          "base_uri": "https://localhost:8080/"
        },
        "id": "CzzleBatqtlS",
        "outputId": "6fdf94d1-14cc-478b-c2ac-efb06c6aaf03"
      },
      "source": [
        "data.shape"
      ],
      "execution_count": 6,
      "outputs": [
        {
          "output_type": "execute_result",
          "data": {
            "text/plain": [
              "(10000, 14)"
            ]
          },
          "metadata": {},
          "execution_count": 6
        }
      ]
    },
    {
      "cell_type": "code",
      "metadata": {
        "id": "K6qTb0ltqtoS"
      },
      "source": [
        "data.drop(['RowNumber', 'CustomerId', 'Surname'], axis=1, inplace=True)"
      ],
      "execution_count": 7,
      "outputs": []
    },
    {
      "cell_type": "code",
      "metadata": {
        "colab": {
          "base_uri": "https://localhost:8080/",
          "height": 648
        },
        "id": "FDN8lQ0iqtq4",
        "outputId": "06b76465-5367-42a7-c1fa-0852c8b9606e"
      },
      "source": [
        "data.hist(figsize=(14,14))\n",
        "plt.show()"
      ],
      "execution_count": 11,
      "outputs": [
        {
          "output_type": "display_data",
          "data": {
            "image/png": "[encoded data removed]",
            "text/plain": [
              "<Figure size 1008x1008 with 9 Axes>"
            ]
          },
          "metadata": {
            "needs_background": "light"
          }
        }
      ]
    },
    {
      "cell_type": "code",
      "metadata": {
        "colab": {
          "base_uri": "https://localhost:8080/"
        },
        "id": "3vhmnolCpzOy",
        "outputId": "cc9f8432-4f48-48ea-8656-f05270ada6ad"
      },
      "source": [
        "# Check if data has any null values\n",
        "data.isnull().sum()"
      ],
      "execution_count": 12,
      "outputs": [
        {
          "output_type": "execute_result",
          "data": {
            "text/plain": [
              "CreditScore        0\n",
              "Geography          0\n",
              "Gender             0\n",
              "Age                0\n",
              "Tenure             0\n",
              "Balance            0\n",
              "NumOfProducts      0\n",
              "HasCrCard          0\n",
              "IsActiveMember     0\n",
              "EstimatedSalary    0\n",
              "Exited             0\n",
              "dtype: int64"
            ]
          },
          "metadata": {},
          "execution_count": 12
        }
      ]
    },
    {
      "cell_type": "code",
      "metadata": {
        "colab": {
          "base_uri": "https://localhost:8080/"
        },
        "id": "upMhwk3gpzSp",
        "outputId": "79f48fdc-a0d9-4676-f574-ce4370470558"
      },
      "source": [
        "data.info()"
      ],
      "execution_count": 13,
      "outputs": [
        {
          "output_type": "stream",
          "text": [
            "<class 'pandas.core.frame.DataFrame'>\n",
            "RangeIndex: 10000 entries, 0 to 9999\n",
            "Data columns (total 11 columns):\n",
            " #   Column           Non-Null Count  Dtype  \n",
            "---  ------           --------------  -----  \n",
            " 0   CreditScore      10000 non-null  int64  \n",
            " 1   Geography        10000 non-null  object \n",
            " 2   Gender           10000 non-null  object \n",
            " 3   Age              10000 non-null  int64  \n",
            " 4   Tenure           10000 non-null  int64  \n",
            " 5   Balance          10000 non-null  float64\n",
            " 6   NumOfProducts    10000 non-null  int64  \n",
            " 7   HasCrCard        10000 non-null  int64  \n",
            " 8   IsActiveMember   10000 non-null  int64  \n",
            " 9   EstimatedSalary  10000 non-null  float64\n",
            " 10  Exited           10000 non-null  int64  \n",
            "dtypes: float64(2), int64(7), object(2)\n",
            "memory usage: 859.5+ KB\n"
          ],
          "name": "stdout"
        }
      ]
    },
    {
      "cell_type": "code",
      "metadata": {
        "colab": {
          "base_uri": "https://localhost:8080/"
        },
        "id": "3KExeKeDtJWl",
        "outputId": "3fe4aed9-4d4c-4b5c-9a79-ab356d3e5660"
      },
      "source": [
        "data.dtypes"
      ],
      "execution_count": 14,
      "outputs": [
        {
          "output_type": "execute_result",
          "data": {
            "text/plain": [
              "CreditScore          int64\n",
              "Geography           object\n",
              "Gender              object\n",
              "Age                  int64\n",
              "Tenure               int64\n",
              "Balance            float64\n",
              "NumOfProducts        int64\n",
              "HasCrCard            int64\n",
              "IsActiveMember       int64\n",
              "EstimatedSalary    float64\n",
              "Exited               int64\n",
              "dtype: object"
            ]
          },
          "metadata": {},
          "execution_count": 14
        }
      ]
    },
    {
      "cell_type": "code",
      "metadata": {
        "id": "H5M1OWSns1oD"
      },
      "source": [
        "# Label encode Object Datatypes\n",
        "\n",
        "data_types_dict = dict(data.dtypes)\n",
        "# Keep track mappings column name to LabelEncoders\n",
        "Label_encoder_collection = {}\n",
        "for col_name, data_type in data_types_dict.items():\n",
        "  if data_type == \"object\":\n",
        "    Le = LabelEncoder()\n",
        "    data[col_name] = Le.fit_transform(data[col_name])\n",
        "    Label_encoder_collection[col_name] = Le"
      ],
      "execution_count": 15,
      "outputs": []
    },
    {
      "cell_type": "code",
      "metadata": {
        "colab": {
          "base_uri": "https://localhost:8080/"
        },
        "id": "k0nno-Dcs1rN",
        "outputId": "b39803da-f24b-4e9c-fcf6-73009dceb6bf"
      },
      "source": [
        "Label_encoder_collection"
      ],
      "execution_count": 16,
      "outputs": [
        {
          "output_type": "execute_result",
          "data": {
            "text/plain": [
              "{'Gender': LabelEncoder(), 'Geography': LabelEncoder()}"
            ]
          },
          "metadata": {},
          "execution_count": 16
        }
      ]
    },
    {
      "cell_type": "code",
      "metadata": {
        "colab": {
          "base_uri": "https://localhost:8080/"
        },
        "id": "0icM669ss1tZ",
        "outputId": "7d9d1402-2866-4276-a0fe-3fe6977a883b"
      },
      "source": [
        "data.info()"
      ],
      "execution_count": 17,
      "outputs": [
        {
          "output_type": "stream",
          "text": [
            "<class 'pandas.core.frame.DataFrame'>\n",
            "RangeIndex: 10000 entries, 0 to 9999\n",
            "Data columns (total 11 columns):\n",
            " #   Column           Non-Null Count  Dtype  \n",
            "---  ------           --------------  -----  \n",
            " 0   CreditScore      10000 non-null  int64  \n",
            " 1   Geography        10000 non-null  int64  \n",
            " 2   Gender           10000 non-null  int64  \n",
            " 3   Age              10000 non-null  int64  \n",
            " 4   Tenure           10000 non-null  int64  \n",
            " 5   Balance          10000 non-null  float64\n",
            " 6   NumOfProducts    10000 non-null  int64  \n",
            " 7   HasCrCard        10000 non-null  int64  \n",
            " 8   IsActiveMember   10000 non-null  int64  \n",
            " 9   EstimatedSalary  10000 non-null  float64\n",
            " 10  Exited           10000 non-null  int64  \n",
            "dtypes: float64(2), int64(9)\n",
            "memory usage: 859.5 KB\n"
          ],
          "name": "stdout"
        }
      ]
    },
    {
      "cell_type": "code",
      "metadata": {
        "colab": {
          "base_uri": "https://localhost:8080/",
          "height": 223
        },
        "id": "p69nb-1Ls1v9",
        "outputId": "09776cc1-4b5b-467f-fbe2-cb34bea9167b"
      },
      "source": [
        "data.head()"
      ],
      "execution_count": 18,
      "outputs": [
        {
          "output_type": "execute_result",
          "data": {
            "text/html": [
              "<div>\n",
              "<style scoped>\n",
              "    .dataframe tbody tr th:only-of-type {\n",
              "        vertical-align: middle;\n",
              "    }\n",
              "\n",
              "    .dataframe tbody tr th {\n",
              "        vertical-align: top;\n",
              "    }\n",
              "\n",
              "    .dataframe thead th {\n",
              "        text-align: right;\n",
              "    }\n",
              "</style>\n",
              "<table border=\"1\" class=\"dataframe\">\n",
              "  <thead>\n",
              "    <tr style=\"text-align: right;\">\n",
              "      <th></th>\n",
              "      <th>CreditScore</th>\n",
              "      <th>Geography</th>\n",
              "      <th>Gender</th>\n",
              "      <th>Age</th>\n",
              "      <th>Tenure</th>\n",
              "      <th>Balance</th>\n",
              "      <th>NumOfProducts</th>\n",
              "      <th>HasCrCard</th>\n",
              "      <th>IsActiveMember</th>\n",
              "      <th>EstimatedSalary</th>\n",
              "      <th>Exited</th>\n",
              "    </tr>\n",
              "  </thead>\n",
              "  <tbody>\n",
              "    <tr>\n",
              "      <th>0</th>\n",
              "      <td>619</td>\n",
              "      <td>0</td>\n",
              "      <td>0</td>\n",
              "      <td>42</td>\n",
              "      <td>2</td>\n",
              "      <td>0.00</td>\n",
              "      <td>1</td>\n",
              "      <td>1</td>\n",
              "      <td>1</td>\n",
              "      <td>101348.88</td>\n",
              "      <td>1</td>\n",
              "    </tr>\n",
              "    <tr>\n",
              "      <th>1</th>\n",
              "      <td>608</td>\n",
              "      <td>2</td>\n",
              "      <td>0</td>\n",
              "      <td>41</td>\n",
              "      <td>1</td>\n",
              "      <td>83807.86</td>\n",
              "      <td>1</td>\n",
              "      <td>0</td>\n",
              "      <td>1</td>\n",
              "      <td>112542.58</td>\n",
              "      <td>0</td>\n",
              "    </tr>\n",
              "    <tr>\n",
              "      <th>2</th>\n",
              "      <td>502</td>\n",
              "      <td>0</td>\n",
              "      <td>0</td>\n",
              "      <td>42</td>\n",
              "      <td>8</td>\n",
              "      <td>159660.80</td>\n",
              "      <td>3</td>\n",
              "      <td>1</td>\n",
              "      <td>0</td>\n",
              "      <td>113931.57</td>\n",
              "      <td>1</td>\n",
              "    </tr>\n",
              "    <tr>\n",
              "      <th>3</th>\n",
              "      <td>699</td>\n",
              "      <td>0</td>\n",
              "      <td>0</td>\n",
              "      <td>39</td>\n",
              "      <td>1</td>\n",
              "      <td>0.00</td>\n",
              "      <td>2</td>\n",
              "      <td>0</td>\n",
              "      <td>0</td>\n",
              "      <td>93826.63</td>\n",
              "      <td>0</td>\n",
              "    </tr>\n",
              "    <tr>\n",
              "      <th>4</th>\n",
              "      <td>850</td>\n",
              "      <td>2</td>\n",
              "      <td>0</td>\n",
              "      <td>43</td>\n",
              "      <td>2</td>\n",
              "      <td>125510.82</td>\n",
              "      <td>1</td>\n",
              "      <td>1</td>\n",
              "      <td>1</td>\n",
              "      <td>79084.10</td>\n",
              "      <td>0</td>\n",
              "    </tr>\n",
              "  </tbody>\n",
              "</table>\n",
              "</div>"
            ],
            "text/plain": [
              "   CreditScore  Geography  Gender  ...  IsActiveMember  EstimatedSalary  Exited\n",
              "0          619          0       0  ...               1        101348.88       1\n",
              "1          608          2       0  ...               1        112542.58       0\n",
              "2          502          0       0  ...               0        113931.57       1\n",
              "3          699          0       0  ...               0         93826.63       0\n",
              "4          850          2       0  ...               1         79084.10       0\n",
              "\n",
              "[5 rows x 11 columns]"
            ]
          },
          "metadata": {},
          "execution_count": 18
        }
      ]
    },
    {
      "cell_type": "code",
      "metadata": {
        "colab": {
          "base_uri": "https://localhost:8080/",
          "height": 437
        },
        "id": "rL4pn4yCs1zo",
        "outputId": "beb289dd-f192-46d0-fdae-b483b52d4e37"
      },
      "source": [
        "data.iloc[:, :-1]"
      ],
      "execution_count": 21,
      "outputs": [
        {
          "output_type": "execute_result",
          "data": {
            "text/html": [
              "<div>\n",
              "<style scoped>\n",
              "    .dataframe tbody tr th:only-of-type {\n",
              "        vertical-align: middle;\n",
              "    }\n",
              "\n",
              "    .dataframe tbody tr th {\n",
              "        vertical-align: top;\n",
              "    }\n",
              "\n",
              "    .dataframe thead th {\n",
              "        text-align: right;\n",
              "    }\n",
              "</style>\n",
              "<table border=\"1\" class=\"dataframe\">\n",
              "  <thead>\n",
              "    <tr style=\"text-align: right;\">\n",
              "      <th></th>\n",
              "      <th>CreditScore</th>\n",
              "      <th>Geography</th>\n",
              "      <th>Gender</th>\n",
              "      <th>Age</th>\n",
              "      <th>Tenure</th>\n",
              "      <th>Balance</th>\n",
              "      <th>NumOfProducts</th>\n",
              "      <th>HasCrCard</th>\n",
              "      <th>IsActiveMember</th>\n",
              "      <th>EstimatedSalary</th>\n",
              "    </tr>\n",
              "  </thead>\n",
              "  <tbody>\n",
              "    <tr>\n",
              "      <th>0</th>\n",
              "      <td>619</td>\n",
              "      <td>0</td>\n",
              "      <td>0</td>\n",
              "      <td>42</td>\n",
              "      <td>2</td>\n",
              "      <td>0.00</td>\n",
              "      <td>1</td>\n",
              "      <td>1</td>\n",
              "      <td>1</td>\n",
              "      <td>101348.88</td>\n",
              "    </tr>\n",
              "    <tr>\n",
              "      <th>1</th>\n",
              "      <td>608</td>\n",
              "      <td>2</td>\n",
              "      <td>0</td>\n",
              "      <td>41</td>\n",
              "      <td>1</td>\n",
              "      <td>83807.86</td>\n",
              "      <td>1</td>\n",
              "      <td>0</td>\n",
              "      <td>1</td>\n",
              "      <td>112542.58</td>\n",
              "    </tr>\n",
              "    <tr>\n",
              "      <th>2</th>\n",
              "      <td>502</td>\n",
              "      <td>0</td>\n",
              "      <td>0</td>\n",
              "      <td>42</td>\n",
              "      <td>8</td>\n",
              "      <td>159660.80</td>\n",
              "      <td>3</td>\n",
              "      <td>1</td>\n",
              "      <td>0</td>\n",
              "      <td>113931.57</td>\n",
              "    </tr>\n",
              "    <tr>\n",
              "      <th>3</th>\n",
              "      <td>699</td>\n",
              "      <td>0</td>\n",
              "      <td>0</td>\n",
              "      <td>39</td>\n",
              "      <td>1</td>\n",
              "      <td>0.00</td>\n",
              "      <td>2</td>\n",
              "      <td>0</td>\n",
              "      <td>0</td>\n",
              "      <td>93826.63</td>\n",
              "    </tr>\n",
              "    <tr>\n",
              "      <th>4</th>\n",
              "      <td>850</td>\n",
              "      <td>2</td>\n",
              "      <td>0</td>\n",
              "      <td>43</td>\n",
              "      <td>2</td>\n",
              "      <td>125510.82</td>\n",
              "      <td>1</td>\n",
              "      <td>1</td>\n",
              "      <td>1</td>\n",
              "      <td>79084.10</td>\n",
              "    </tr>\n",
              "    <tr>\n",
              "      <th>...</th>\n",
              "      <td>...</td>\n",
              "      <td>...</td>\n",
              "      <td>...</td>\n",
              "      <td>...</td>\n",
              "      <td>...</td>\n",
              "      <td>...</td>\n",
              "      <td>...</td>\n",
              "      <td>...</td>\n",
              "      <td>...</td>\n",
              "      <td>...</td>\n",
              "    </tr>\n",
              "    <tr>\n",
              "      <th>9995</th>\n",
              "      <td>771</td>\n",
              "      <td>0</td>\n",
              "      <td>1</td>\n",
              "      <td>39</td>\n",
              "      <td>5</td>\n",
              "      <td>0.00</td>\n",
              "      <td>2</td>\n",
              "      <td>1</td>\n",
              "      <td>0</td>\n",
              "      <td>96270.64</td>\n",
              "    </tr>\n",
              "    <tr>\n",
              "      <th>9996</th>\n",
              "      <td>516</td>\n",
              "      <td>0</td>\n",
              "      <td>1</td>\n",
              "      <td>35</td>\n",
              "      <td>10</td>\n",
              "      <td>57369.61</td>\n",
              "      <td>1</td>\n",
              "      <td>1</td>\n",
              "      <td>1</td>\n",
              "      <td>101699.77</td>\n",
              "    </tr>\n",
              "    <tr>\n",
              "      <th>9997</th>\n",
              "      <td>709</td>\n",
              "      <td>0</td>\n",
              "      <td>0</td>\n",
              "      <td>36</td>\n",
              "      <td>7</td>\n",
              "      <td>0.00</td>\n",
              "      <td>1</td>\n",
              "      <td>0</td>\n",
              "      <td>1</td>\n",
              "      <td>42085.58</td>\n",
              "    </tr>\n",
              "    <tr>\n",
              "      <th>9998</th>\n",
              "      <td>772</td>\n",
              "      <td>1</td>\n",
              "      <td>1</td>\n",
              "      <td>42</td>\n",
              "      <td>3</td>\n",
              "      <td>75075.31</td>\n",
              "      <td>2</td>\n",
              "      <td>1</td>\n",
              "      <td>0</td>\n",
              "      <td>92888.52</td>\n",
              "    </tr>\n",
              "    <tr>\n",
              "      <th>9999</th>\n",
              "      <td>792</td>\n",
              "      <td>0</td>\n",
              "      <td>0</td>\n",
              "      <td>28</td>\n",
              "      <td>4</td>\n",
              "      <td>130142.79</td>\n",
              "      <td>1</td>\n",
              "      <td>1</td>\n",
              "      <td>0</td>\n",
              "      <td>38190.78</td>\n",
              "    </tr>\n",
              "  </tbody>\n",
              "</table>\n",
              "<p>10000 rows × 10 columns</p>\n",
              "</div>"
            ],
            "text/plain": [
              "      CreditScore  Geography  ...  IsActiveMember  EstimatedSalary\n",
              "0             619          0  ...               1        101348.88\n",
              "1             608          2  ...               1        112542.58\n",
              "2             502          0  ...               0        113931.57\n",
              "3             699          0  ...               0         93826.63\n",
              "4             850          2  ...               1         79084.10\n",
              "...           ...        ...  ...             ...              ...\n",
              "9995          771          0  ...               0         96270.64\n",
              "9996          516          0  ...               1        101699.77\n",
              "9997          709          0  ...               1         42085.58\n",
              "9998          772          1  ...               0         92888.52\n",
              "9999          792          0  ...               0         38190.78\n",
              "\n",
              "[10000 rows x 10 columns]"
            ]
          },
          "metadata": {},
          "execution_count": 21
        }
      ]
    },
    {
      "cell_type": "code",
      "metadata": {
        "colab": {
          "base_uri": "https://localhost:8080/"
        },
        "id": "XjgYLlCquk5d",
        "outputId": "0ca30386-30b3-4296-b3f8-0cbf2cf94ac6"
      },
      "source": [
        "data.iloc[:, :-1].values"
      ],
      "execution_count": 22,
      "outputs": [
        {
          "output_type": "execute_result",
          "data": {
            "text/plain": [
              "array([[6.1900000e+02, 0.0000000e+00, 0.0000000e+00, ..., 1.0000000e+00,\n",
              "        1.0000000e+00, 1.0134888e+05],\n",
              "       [6.0800000e+02, 2.0000000e+00, 0.0000000e+00, ..., 0.0000000e+00,\n",
              "        1.0000000e+00, 1.1254258e+05],\n",
              "       [5.0200000e+02, 0.0000000e+00, 0.0000000e+00, ..., 1.0000000e+00,\n",
              "        0.0000000e+00, 1.1393157e+05],\n",
              "       ...,\n",
              "       [7.0900000e+02, 0.0000000e+00, 0.0000000e+00, ..., 0.0000000e+00,\n",
              "        1.0000000e+00, 4.2085580e+04],\n",
              "       [7.7200000e+02, 1.0000000e+00, 1.0000000e+00, ..., 1.0000000e+00,\n",
              "        0.0000000e+00, 9.2888520e+04],\n",
              "       [7.9200000e+02, 0.0000000e+00, 0.0000000e+00, ..., 1.0000000e+00,\n",
              "        0.0000000e+00, 3.8190780e+04]])"
            ]
          },
          "metadata": {},
          "execution_count": 22
        }
      ]
    },
    {
      "cell_type": "code",
      "metadata": {
        "colab": {
          "base_uri": "https://localhost:8080/"
        },
        "id": "Jcr7cI9fA5DS",
        "outputId": "da2b0b5f-345d-49b3-b4c5-c5dcfad17357"
      },
      "source": [
        "data[\"Exited\"]"
      ],
      "execution_count": 46,
      "outputs": [
        {
          "output_type": "execute_result",
          "data": {
            "text/plain": [
              "0       1\n",
              "1       0\n",
              "2       1\n",
              "3       0\n",
              "4       0\n",
              "       ..\n",
              "9995    0\n",
              "9996    0\n",
              "9997    1\n",
              "9998    1\n",
              "9999    0\n",
              "Name: Exited, Length: 10000, dtype: int64"
            ]
          },
          "metadata": {},
          "execution_count": 46
        }
      ]
    },
    {
      "cell_type": "code",
      "metadata": {
        "colab": {
          "base_uri": "https://localhost:8080/",
          "height": 296
        },
        "id": "aLsQvBB-BG3m",
        "outputId": "1ed53bda-1027-4063-8671-cae3ddcee339"
      },
      "source": [
        "sns.countplot(x=\"Exited\", data=data)"
      ],
      "execution_count": 47,
      "outputs": [
        {
          "output_type": "execute_result",
          "data": {
            "text/plain": [
              "<matplotlib.axes._subplots.AxesSubplot at 0x7f854c2bbb50>"
            ]
          },
          "metadata": {},
          "execution_count": 47
        },
        {
          "output_type": "display_data",
          "data": {
            "image/png": "[encoded data removed]",
            "text/plain": [
              "<Figure size 432x288 with 1 Axes>"
            ]
          },
          "metadata": {
            "needs_background": "light"
          }
        }
      ]
    },
    {
      "cell_type": "code",
      "metadata": {
        "id": "TYUjim-QulAM"
      },
      "source": [
        "X = data.iloc[:, :-1].values.astype(np.float32)\n",
        "Y = data.iloc[:, -1].values.astype(int)"
      ],
      "execution_count": 23,
      "outputs": []
    },
    {
      "cell_type": "code",
      "metadata": {
        "colab": {
          "base_uri": "https://localhost:8080/"
        },
        "id": "AIC7WDNIulGV",
        "outputId": "70f30f53-4dbf-46fc-a580-8fe6bf7ec9ec"
      },
      "source": [
        "Y"
      ],
      "execution_count": 24,
      "outputs": [
        {
          "output_type": "execute_result",
          "data": {
            "text/plain": [
              "array([1, 0, 1, ..., 1, 1, 0])"
            ]
          },
          "metadata": {},
          "execution_count": 24
        }
      ]
    },
    {
      "cell_type": "code",
      "metadata": {
        "colab": {
          "base_uri": "https://localhost:8080/"
        },
        "id": "p3UZVZe-ulPP",
        "outputId": "a707ab42-6154-43f8-e01f-b8cc1171b02c"
      },
      "source": [
        "X.shape"
      ],
      "execution_count": 27,
      "outputs": [
        {
          "output_type": "execute_result",
          "data": {
            "text/plain": [
              "(10000, 10)"
            ]
          },
          "metadata": {},
          "execution_count": 27
        }
      ]
    },
    {
      "cell_type": "code",
      "metadata": {
        "id": "yDw2a3rTs13l"
      },
      "source": [
        "X_train, X_test, y_train, y_test = train_test_split(X, Y, test_size=0.2, random_state = 4)"
      ],
      "execution_count": 30,
      "outputs": []
    },
    {
      "cell_type": "markdown",
      "metadata": {
        "id": "FpINCiZUvvWY"
      },
      "source": [
        "**Building the Neural Network**"
      ]
    },
    {
      "cell_type": "code",
      "metadata": {
        "colab": {
          "base_uri": "https://localhost:8080/"
        },
        "id": "mxDO_OyZvYhR",
        "outputId": "180e10e3-e457-4998-c04a-8528e31148c7"
      },
      "source": [
        "# Start the model with Sequential object\n",
        "model = tf.keras.models.Sequential()\n",
        "\n",
        "# Next add in the input object and specify the dimension to pass in\n",
        "model.add(tf.keras.Input(shape=(10,))) # 10 here represents the number of columns in the data set\n",
        "\n",
        "# Add in the neurons the first layer\n",
        "model.add(tf.keras.layers.Dense(32))\n",
        "\n",
        "# Add 2nd layer\n",
        "model.add(tf.keras.layers.Dense(32))\n",
        "\n",
        "# Final Sigmoid layer to predict (0/1)\n",
        "model.add(tf.keras.layers.Dense(1, activation=\"sigmoid\"))\n",
        "\n",
        "# Print summary to understand the neural network flow\n",
        "model.summary()"
      ],
      "execution_count": 28,
      "outputs": [
        {
          "output_type": "stream",
          "text": [
            "Model: \"sequential\"\n",
            "_________________________________________________________________\n",
            "Layer (type)                 Output Shape              Param #   \n",
            "=================================================================\n",
            "dense (Dense)                (None, 32)                352       \n",
            "_________________________________________________________________\n",
            "dense_1 (Dense)              (None, 32)                1056      \n",
            "_________________________________________________________________\n",
            "dense_2 (Dense)              (None, 1)                 33        \n",
            "=================================================================\n",
            "Total params: 1,441\n",
            "Trainable params: 1,441\n",
            "Non-trainable params: 0\n",
            "_________________________________________________________________\n"
          ],
          "name": "stdout"
        }
      ]
    },
    {
      "cell_type": "code",
      "metadata": {
        "id": "lX-IS9C6vYkR"
      },
      "source": [
        "# create the optimizer and compile the model\n",
        "Optimizer = tf.keras.optimizers.Adam(learning_rate=0.001)\n",
        "model.compile(Optimizer, loss=\"binary_crossentropy\", metrics=[\"accuracy\"])"
      ],
      "execution_count": 29,
      "outputs": []
    },
    {
      "cell_type": "code",
      "metadata": {
        "colab": {
          "base_uri": "https://localhost:8080/"
        },
        "id": "xcTKUkqAvYnW",
        "outputId": "3c3e0cd8-c6c6-4eb9-9cb4-bf1a93919826"
      },
      "source": [
        "history = model.fit(X_train, y_train, validation_data=(X_test, y_test), epochs=20)"
      ],
      "execution_count": 31,
      "outputs": [
        {
          "output_type": "stream",
          "text": [
            "Epoch 1/20\n",
            "250/250 [==============================] - 1s 2ms/step - loss: 2609.0608 - accuracy: 0.6173 - val_loss: 395.9226 - val_accuracy: 0.7815\n",
            "Epoch 2/20\n",
            "250/250 [==============================] - 0s 2ms/step - loss: 304.8539 - accuracy: 0.6420 - val_loss: 274.4103 - val_accuracy: 0.4340\n",
            "Epoch 3/20\n",
            "250/250 [==============================] - 0s 2ms/step - loss: 298.3953 - accuracy: 0.6631 - val_loss: 674.5622 - val_accuracy: 0.2240\n",
            "Epoch 4/20\n",
            "250/250 [==============================] - 0s 2ms/step - loss: 292.9858 - accuracy: 0.6718 - val_loss: 121.8342 - val_accuracy: 0.8010\n",
            "Epoch 5/20\n",
            "250/250 [==============================] - 0s 2ms/step - loss: 296.1495 - accuracy: 0.6704 - val_loss: 147.1156 - val_accuracy: 0.7980\n",
            "Epoch 6/20\n",
            "250/250 [==============================] - 0s 2ms/step - loss: 309.7836 - accuracy: 0.6774 - val_loss: 211.7882 - val_accuracy: 0.8020\n",
            "Epoch 7/20\n",
            "250/250 [==============================] - 0s 2ms/step - loss: 260.2733 - accuracy: 0.6691 - val_loss: 340.3751 - val_accuracy: 0.7110\n",
            "Epoch 8/20\n",
            "250/250 [==============================] - 1s 2ms/step - loss: 231.3197 - accuracy: 0.6655 - val_loss: 102.0667 - val_accuracy: 0.7985\n",
            "Epoch 9/20\n",
            "250/250 [==============================] - 0s 2ms/step - loss: 249.0695 - accuracy: 0.6768 - val_loss: 70.2446 - val_accuracy: 0.7365\n",
            "Epoch 10/20\n",
            "250/250 [==============================] - 0s 2ms/step - loss: 260.1624 - accuracy: 0.6789 - val_loss: 407.2913 - val_accuracy: 0.4495\n",
            "Epoch 11/20\n",
            "250/250 [==============================] - 0s 2ms/step - loss: 238.8235 - accuracy: 0.6740 - val_loss: 352.3290 - val_accuracy: 0.8020\n",
            "Epoch 12/20\n",
            "250/250 [==============================] - 0s 2ms/step - loss: 199.3777 - accuracy: 0.6902 - val_loss: 105.7722 - val_accuracy: 0.6435\n",
            "Epoch 13/20\n",
            "250/250 [==============================] - 0s 2ms/step - loss: 184.0489 - accuracy: 0.6844 - val_loss: 55.8970 - val_accuracy: 0.4825\n",
            "Epoch 14/20\n",
            "250/250 [==============================] - 0s 2ms/step - loss: 194.5493 - accuracy: 0.6794 - val_loss: 260.3298 - val_accuracy: 0.7345\n",
            "Epoch 15/20\n",
            "250/250 [==============================] - 0s 2ms/step - loss: 281.2614 - accuracy: 0.6786 - val_loss: 606.0977 - val_accuracy: 0.8020\n",
            "Epoch 16/20\n",
            "250/250 [==============================] - 0s 2ms/step - loss: 194.1273 - accuracy: 0.6754 - val_loss: 87.3658 - val_accuracy: 0.8020\n",
            "Epoch 17/20\n",
            "250/250 [==============================] - 0s 2ms/step - loss: 207.6297 - accuracy: 0.6848 - val_loss: 189.6150 - val_accuracy: 0.7610\n",
            "Epoch 18/20\n",
            "250/250 [==============================] - 0s 2ms/step - loss: 182.7910 - accuracy: 0.6888 - val_loss: 271.1231 - val_accuracy: 0.8020\n",
            "Epoch 19/20\n",
            "250/250 [==============================] - 0s 2ms/step - loss: 207.7940 - accuracy: 0.6830 - val_loss: 158.4942 - val_accuracy: 0.8020\n",
            "Epoch 20/20\n",
            "250/250 [==============================] - 0s 2ms/step - loss: 176.9707 - accuracy: 0.6856 - val_loss: 122.3176 - val_accuracy: 0.8020\n"
          ],
          "name": "stdout"
        }
      ]
    },
    {
      "cell_type": "code",
      "metadata": {
        "colab": {
          "base_uri": "https://localhost:8080/",
          "height": 573
        },
        "id": "VVyuDv-UvYqB",
        "outputId": "6bf276e0-de0e-4059-f4c9-a24198aede19"
      },
      "source": [
        "# Accuracy plot \n",
        "plt.plot(history.history[\"accuracy\"])\n",
        "plt.plot(history.history[\"val_accuracy\"])\n",
        "plt.title(\"model accuracy\")\n",
        "plt.xlabel(\"epoch\")\n",
        "plt.ylabel(\"accuracy\")\n",
        "plt.legend(['train', \"validation\"], loc='lower right')\n",
        "plt.show()\n",
        "\n",
        "\n",
        "# Loss plot\n",
        "plt.plot(history.history[\"loss\"])\n",
        "plt.plot(history.history[\"val_loss\"])\n",
        "plt.title(\"model loss\")\n",
        "plt.xlabel(\"epoch\")\n",
        "plt.ylabel(\"loss\")\n",
        "plt.legend(['train', \"validation\"], loc='upper right')\n",
        "plt.show()"
      ],
      "execution_count": 35,
      "outputs": [
        {
          "output_type": "display_data",
          "data": {
            "image/png": "[encoded data removed]",
            "text/plain": [
              "<Figure size 432x288 with 1 Axes>"
            ]
          },
          "metadata": {
            "needs_background": "light"
          }
        },
        {
          "output_type": "display_data",
          "data": {
            "image/png": "[encoded data removed]",
            "text/plain": [
              "<Figure size 432x288 with 1 Axes>"
            ]
          },
          "metadata": {
            "needs_background": "light"
          }
        }
      ]
    },
    {
      "cell_type": "code",
      "metadata": {
        "id": "J3uKpgsgvYtc"
      },
      "source": [
        "# Generating prediction on testing set\n",
        "y_pred = np.round(model.predict(X_test))"
      ],
      "execution_count": 36,
      "outputs": []
    },
    {
      "cell_type": "code",
      "metadata": {
        "id": "ntTBOOtGvYva"
      },
      "source": [
        "from sklearn.metrics import accuracy_score, confusion_matrix"
      ],
      "execution_count": 37,
      "outputs": []
    },
    {
      "cell_type": "code",
      "metadata": {
        "colab": {
          "base_uri": "https://localhost:8080/"
        },
        "id": "vhRz4nsz15lf",
        "outputId": "ab678e1f-a9d5-4d33-8398-e2529245a0b3"
      },
      "source": [
        "accuracy_score(y_test, y_pred)"
      ],
      "execution_count": 38,
      "outputs": [
        {
          "output_type": "execute_result",
          "data": {
            "text/plain": [
              "0.802"
            ]
          },
          "metadata": {},
          "execution_count": 38
        }
      ]
    },
    {
      "cell_type": "code",
      "metadata": {
        "id": "Mc7smvz8158u"
      },
      "source": [
        "## Accuracy seems good"
      ],
      "execution_count": 39,
      "outputs": []
    },
    {
      "cell_type": "code",
      "metadata": {
        "id": "0UzcPQEz16Fg"
      },
      "source": [
        "import seaborn as sns"
      ],
      "execution_count": 40,
      "outputs": []
    },
    {
      "cell_type": "code",
      "metadata": {
        "colab": {
          "base_uri": "https://localhost:8080/"
        },
        "id": "RPUyboqB16M5",
        "outputId": "6fb37af4-8a70-461d-e38b-0f71a0a4d595"
      },
      "source": [
        "cm = confusion_matrix(y_test, y_pred)\n",
        "cm "
      ],
      "execution_count": 41,
      "outputs": [
        {
          "output_type": "execute_result",
          "data": {
            "text/plain": [
              "array([[1604,    0],\n",
              "       [ 396,    0]])"
            ]
          },
          "metadata": {},
          "execution_count": 41
        }
      ]
    },
    {
      "cell_type": "code",
      "metadata": {
        "colab": {
          "base_uri": "https://localhost:8080/",
          "height": 286
        },
        "id": "IWw_KlNx16VC",
        "outputId": "a66fbd1d-6ddf-4021-ccd3-aba33d5831eb"
      },
      "source": [
        "sns.heatmap(cm, annot=True, cmap=\"YlGnBu\")"
      ],
      "execution_count": 43,
      "outputs": [
        {
          "output_type": "execute_result",
          "data": {
            "text/plain": [
              "<matplotlib.axes._subplots.AxesSubplot at 0x7f854c27ef10>"
            ]
          },
          "metadata": {},
          "execution_count": 43
        },
        {
          "output_type": "display_data",
          "data": {
            "image/png": "[encoded data removed]",
            "text/plain": [
              "<Figure size 432x288 with 2 Axes>"
            ]
          },
          "metadata": {
            "needs_background": "light"
          }
        }
      ]
    },
    {
      "cell_type": "markdown",
      "metadata": {
        "id": "AKIQwCS56Ws0"
      },
      "source": [
        "Let's improve the model:\n",
        "1. Add in Class weights to handle imbalance\n",
        "2. Increase Units in Dense layers and also increase Number of layers\n",
        "3. Add Batch Normalisation to layers\n",
        "4. add dropout after layers"
      ]
    },
    {
      "cell_type": "code",
      "metadata": {
        "id": "z0f0EXx416ZE"
      },
      "source": [
        "from sklearn.utils.class_weight import compute_class_weight\n",
        "class_weights = compute_class_weight(class_weight=\"balanced\", classes = np.unique(y_train), y=y_train)\n",
        "\n",
        "model_class_weights = {}\n",
        "for e, weight in enumerate(class_weights):\n",
        "  model_class_weights[e] = weight "
      ],
      "execution_count": 48,
      "outputs": []
    },
    {
      "cell_type": "code",
      "metadata": {
        "colab": {
          "base_uri": "https://localhost:8080/"
        },
        "id": "TsMO0arJ6WEY",
        "outputId": "fa067e48-6565-4d4b-f934-77d99a9c6d9e"
      },
      "source": [
        "model_class_weights"
      ],
      "execution_count": 49,
      "outputs": [
        {
          "output_type": "execute_result",
          "data": {
            "text/plain": [
              "{0: 0.6290297216543481, 1: 2.437538086532602}"
            ]
          },
          "metadata": {},
          "execution_count": 49
        }
      ]
    },
    {
      "cell_type": "code",
      "metadata": {
        "colab": {
          "base_uri": "https://localhost:8080/"
        },
        "id": "LUmYdA006WHV",
        "outputId": "fbe9fba1-fe74-4e0b-f54b-0ac09ece11f5"
      },
      "source": [
        "model = tf.keras.models.Sequential()\n",
        "model.add(tf.keras.Input(shape=(10,)))\n",
        "model.add(tf.keras.layers.BatchNormalization())\n",
        "model.add(tf.keras.layers.Dense(128, activation=\"relu\"))\n",
        "model.add(tf.keras.layers.Dropout(0.2))\n",
        "model.add(tf.keras.layers.BatchNormalization())\n",
        "model.add(tf.keras.layers.Dense(64, activation=\"relu\"))\n",
        "model.add(tf.keras.layers.Dropout(0.2))\n",
        "model.add(tf.keras.layers.BatchNormalization())\n",
        "model.add(tf.keras.layers.Dense(32, activation=\"relu\"))\n",
        "model.add(tf.keras.layers.Dense(1, activation='sigmoid'))\n",
        "\n",
        "# Print summary to understand the neural network flow\n",
        "model.summary()"
      ],
      "execution_count": 50,
      "outputs": [
        {
          "output_type": "stream",
          "text": [
            "Model: \"sequential_1\"\n",
            "_________________________________________________________________\n",
            "Layer (type)                 Output Shape              Param #   \n",
            "=================================================================\n",
            "batch_normalization (BatchNo (None, 10)                40        \n",
            "_________________________________________________________________\n",
            "dense_3 (Dense)              (None, 128)               1408      \n",
            "_________________________________________________________________\n",
            "dropout (Dropout)            (None, 128)               0         \n",
            "_________________________________________________________________\n",
            "batch_normalization_1 (Batch (None, 128)               512       \n",
            "_________________________________________________________________\n",
            "dense_4 (Dense)              (None, 64)                8256      \n",
            "_________________________________________________________________\n",
            "dropout_1 (Dropout)          (None, 64)                0         \n",
            "_________________________________________________________________\n",
            "batch_normalization_2 (Batch (None, 64)                256       \n",
            "_________________________________________________________________\n",
            "dense_5 (Dense)              (None, 32)                2080      \n",
            "_________________________________________________________________\n",
            "dense_6 (Dense)              (None, 1)                 33        \n",
            "=================================================================\n",
            "Total params: 12,585\n",
            "Trainable params: 12,181\n",
            "Non-trainable params: 404\n",
            "_________________________________________________________________\n"
          ],
          "name": "stdout"
        }
      ]
    },
    {
      "cell_type": "code",
      "metadata": {
        "id": "6klgfFam6WLD"
      },
      "source": [
        "# create the optimizer and compile the model\n",
        "Optimizer = tf.keras.optimizers.Adam(learning_rate=0.001)\n",
        "model.compile(Optimizer, loss=\"binary_crossentropy\", metrics=[\"accuracy\"])"
      ],
      "execution_count": 51,
      "outputs": []
    },
    {
      "cell_type": "code",
      "metadata": {
        "colab": {
          "base_uri": "https://localhost:8080/"
        },
        "id": "kwhpt3OE6WNA",
        "outputId": "4c4376dd-8a14-4215-8d77-bc8e8f8b2d2b"
      },
      "source": [
        "history = model.fit(X_train, y_train, validation_data=(X_test, y_test), epochs=20, class_weight=model_class_weights)"
      ],
      "execution_count": 52,
      "outputs": [
        {
          "output_type": "stream",
          "text": [
            "Epoch 1/20\n",
            "250/250 [==============================] - 2s 4ms/step - loss: 0.6074 - accuracy: 0.6705 - val_loss: 0.5526 - val_accuracy: 0.7140\n",
            "Epoch 2/20\n",
            "250/250 [==============================] - 1s 3ms/step - loss: 0.5434 - accuracy: 0.7125 - val_loss: 0.4660 - val_accuracy: 0.7675\n",
            "Epoch 3/20\n",
            "250/250 [==============================] - 1s 3ms/step - loss: 0.5278 - accuracy: 0.7383 - val_loss: 0.4852 - val_accuracy: 0.7510\n",
            "Epoch 4/20\n",
            "250/250 [==============================] - 1s 3ms/step - loss: 0.5175 - accuracy: 0.7365 - val_loss: 0.4617 - val_accuracy: 0.7845\n",
            "Epoch 5/20\n",
            "250/250 [==============================] - 1s 3ms/step - loss: 0.5019 - accuracy: 0.7492 - val_loss: 0.4655 - val_accuracy: 0.7675\n",
            "Epoch 6/20\n",
            "250/250 [==============================] - 1s 3ms/step - loss: 0.5011 - accuracy: 0.7492 - val_loss: 0.4345 - val_accuracy: 0.8105\n",
            "Epoch 7/20\n",
            "250/250 [==============================] - 1s 3ms/step - loss: 0.5013 - accuracy: 0.7610 - val_loss: 0.4421 - val_accuracy: 0.8045\n",
            "Epoch 8/20\n",
            "250/250 [==============================] - 1s 3ms/step - loss: 0.4920 - accuracy: 0.7659 - val_loss: 0.4464 - val_accuracy: 0.7930\n",
            "Epoch 9/20\n",
            "250/250 [==============================] - 1s 3ms/step - loss: 0.4925 - accuracy: 0.7648 - val_loss: 0.4534 - val_accuracy: 0.7830\n",
            "Epoch 10/20\n",
            "250/250 [==============================] - 1s 3ms/step - loss: 0.4845 - accuracy: 0.7667 - val_loss: 0.4689 - val_accuracy: 0.7825\n",
            "Epoch 11/20\n",
            "250/250 [==============================] - 1s 3ms/step - loss: 0.4854 - accuracy: 0.7653 - val_loss: 0.4222 - val_accuracy: 0.8060\n",
            "Epoch 12/20\n",
            "250/250 [==============================] - 1s 3ms/step - loss: 0.4852 - accuracy: 0.7689 - val_loss: 0.4747 - val_accuracy: 0.7705\n",
            "Epoch 13/20\n",
            "250/250 [==============================] - 1s 3ms/step - loss: 0.4880 - accuracy: 0.7589 - val_loss: 0.4741 - val_accuracy: 0.7660\n",
            "Epoch 14/20\n",
            "250/250 [==============================] - 1s 3ms/step - loss: 0.4804 - accuracy: 0.7653 - val_loss: 0.4589 - val_accuracy: 0.7980\n",
            "Epoch 15/20\n",
            "250/250 [==============================] - 1s 3ms/step - loss: 0.4803 - accuracy: 0.7714 - val_loss: 0.4572 - val_accuracy: 0.7825\n",
            "Epoch 16/20\n",
            "250/250 [==============================] - 1s 3ms/step - loss: 0.4804 - accuracy: 0.7631 - val_loss: 0.4307 - val_accuracy: 0.8060\n",
            "Epoch 17/20\n",
            "250/250 [==============================] - 1s 3ms/step - loss: 0.4787 - accuracy: 0.7689 - val_loss: 0.4601 - val_accuracy: 0.7895\n",
            "Epoch 18/20\n",
            "250/250 [==============================] - 1s 3ms/step - loss: 0.4824 - accuracy: 0.7626 - val_loss: 0.4573 - val_accuracy: 0.7800\n",
            "Epoch 19/20\n",
            "250/250 [==============================] - 1s 3ms/step - loss: 0.4700 - accuracy: 0.7711 - val_loss: 0.4352 - val_accuracy: 0.8080\n",
            "Epoch 20/20\n",
            "250/250 [==============================] - 1s 3ms/step - loss: 0.4746 - accuracy: 0.7721 - val_loss: 0.4519 - val_accuracy: 0.7930\n"
          ],
          "name": "stdout"
        }
      ]
    },
    {
      "cell_type": "code",
      "metadata": {
        "colab": {
          "base_uri": "https://localhost:8080/",
          "height": 573
        },
        "id": "j7nbxB776WPi",
        "outputId": "36300641-61e6-4690-ed48-4bb510e0bc27"
      },
      "source": [
        "# Accuracy plot \n",
        "plt.plot(history.history[\"accuracy\"])\n",
        "plt.plot(history.history[\"val_accuracy\"])\n",
        "plt.title(\"model accuracy\")\n",
        "plt.xlabel(\"epoch\")\n",
        "plt.ylabel(\"accuracy\")\n",
        "plt.legend(['train', \"validation\"], loc='lower right')\n",
        "plt.show()\n",
        "\n",
        "\n",
        "# Loss plot\n",
        "plt.plot(history.history[\"loss\"])\n",
        "plt.plot(history.history[\"val_loss\"])\n",
        "plt.title(\"model loss\")\n",
        "plt.xlabel(\"epoch\")\n",
        "plt.ylabel(\"loss\")\n",
        "plt.legend(['train', \"validation\"], loc='upper right')\n",
        "plt.show()"
      ],
      "execution_count": 53,
      "outputs": [
        {
          "output_type": "display_data",
          "data": {
            "image/png": "[encoded data removed]",
            "text/plain": [
              "<Figure size 432x288 with 1 Axes>"
            ]
          },
          "metadata": {
            "needs_background": "light"
          }
        },
        {
          "output_type": "display_data",
          "data": {
            "image/png": "[encoded data removed]",
            "text/plain": [
              "<Figure size 432x288 with 1 Axes>"
            ]
          },
          "metadata": {
            "needs_background": "light"
          }
        }
      ]
    },
    {
      "cell_type": "code",
      "metadata": {
        "id": "KhSqeFIJDNEI"
      },
      "source": [
        "# Generating prediction on testing set\n",
        "y_pred = np.round(model.predict(X_test))"
      ],
      "execution_count": 54,
      "outputs": []
    },
    {
      "cell_type": "code",
      "metadata": {
        "colab": {
          "base_uri": "https://localhost:8080/"
        },
        "id": "a5y_1wPUDNHG",
        "outputId": "ad1d8f7d-136a-45fb-b5b7-29c17bc54577"
      },
      "source": [
        "accuracy_score(y_test, y_pred)"
      ],
      "execution_count": 55,
      "outputs": [
        {
          "output_type": "execute_result",
          "data": {
            "text/plain": [
              "0.793"
            ]
          },
          "metadata": {},
          "execution_count": 55
        }
      ]
    },
    {
      "cell_type": "code",
      "metadata": {
        "colab": {
          "base_uri": "https://localhost:8080/"
        },
        "id": "0mQIj3a-DNJ3",
        "outputId": "dd945e80-d1e8-466d-9a7f-f73fdf6d4fa5"
      },
      "source": [
        "cm_2 = confusion_matrix(y_test, y_pred)\n",
        "cm_2"
      ],
      "execution_count": 56,
      "outputs": [
        {
          "output_type": "execute_result",
          "data": {
            "text/plain": [
              "array([[1270,  334],\n",
              "       [  80,  316]])"
            ]
          },
          "metadata": {},
          "execution_count": 56
        }
      ]
    },
    {
      "cell_type": "code",
      "metadata": {
        "colab": {
          "base_uri": "https://localhost:8080/",
          "height": 282
        },
        "id": "TcdI8EkSDNMs",
        "outputId": "cf5a1456-f93e-46dd-8e6e-6b5c19b251a8"
      },
      "source": [
        "sns.heatmap(cm_2, annot=True, cmap=\"YlGnBu\")"
      ],
      "execution_count": 57,
      "outputs": [
        {
          "output_type": "execute_result",
          "data": {
            "text/plain": [
              "<matplotlib.axes._subplots.AxesSubplot at 0x7f854951a9d0>"
            ]
          },
          "metadata": {},
          "execution_count": 57
        },
        {
          "output_type": "display_data",
          "data": {
            "image/png": "[encoded data removed]",
            "text/plain": [
              "<Figure size 432x288 with 2 Axes>"
            ]
          },
          "metadata": {
            "needs_background": "light"
          }
        }
      ]
    },
    {
      "cell_type": "code",
      "metadata": {
        "id": "ydwY4QTWDNPO"
      },
      "source": [
        "from sklearn.metrics import classification_report"
      ],
      "execution_count": 58,
      "outputs": []
    },
    {
      "cell_type": "code",
      "metadata": {
        "colab": {
          "base_uri": "https://localhost:8080/"
        },
        "id": "yLFo-apuDNRo",
        "outputId": "e65a705b-1ef8-423d-a2c6-a88ae0d3bbf7"
      },
      "source": [
        "report = classification_report(y_test, y_pred)\n",
        "print(report)"
      ],
      "execution_count": 60,
      "outputs": [
        {
          "output_type": "stream",
          "text": [
            "              precision    recall  f1-score   support\n",
            "\n",
            "           0       0.94      0.79      0.86      1604\n",
            "           1       0.49      0.80      0.60       396\n",
            "\n",
            "    accuracy                           0.79      2000\n",
            "   macro avg       0.71      0.79      0.73      2000\n",
            "weighted avg       0.85      0.79      0.81      2000\n",
            "\n"
          ],
          "name": "stdout"
        }
      ]
    }
  ]
}